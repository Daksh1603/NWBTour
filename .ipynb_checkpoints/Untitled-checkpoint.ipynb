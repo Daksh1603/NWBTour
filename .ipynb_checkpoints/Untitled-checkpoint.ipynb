{
 "cells": [
  {
   "cell_type": "code",
   "execution_count": 1,
   "id": "81822355",
   "metadata": {},
   "outputs": [
    {
     "name": "stdout",
     "output_type": "stream",
     "text": [
      "Using pynwb v2.3.2\n"
     ]
    }
   ],
   "source": [
    "# import modules\n",
    "from datetime import datetime, tzinfo, timedelta\n",
    "#import hdmf._version\n",
    "from dateutil.tz import tzlocal\n",
    "import platform\n",
    "import math\n",
    "import numpy as np\n",
    "import uuid\n",
    "import os\n",
    "from os import environ\n",
    "import scipy.io as sio\n",
    "from hdmf.backends.hdf5.h5_utils import H5DataIO\n",
    "import pandas as pd\n",
    "\n",
    "from pynwb import NWBHDF5IO\n",
    "\n",
    "#https://pypi.org/project/pyabf/\n",
    "import pyabf\n",
    "\n",
    "import pynwb\n",
    "print('Using pynwb v%s'%pynwb.__version__)"
   ]
  },
  {
   "cell_type": "code",
   "execution_count": 2,
   "id": "107f40dd",
   "metadata": {},
   "outputs": [],
   "source": [
    "from nwbwidgets.timeseries import SeparateTracesPlotlyWidget"
   ]
  },
  {
   "cell_type": "code",
   "execution_count": 3,
   "id": "843fd332",
   "metadata": {},
   "outputs": [],
   "source": [
    "from nwbwidgets.timeseries import MultiTimeSeriesWidget"
   ]
  },
  {
   "cell_type": "code",
   "execution_count": 4,
   "id": "747a8213",
   "metadata": {},
   "outputs": [],
   "source": [
    "import concurrent.futures\n",
    "from pathlib import Path\n",
    "\n",
    "import fsspec\n",
    "import h5py\n",
    "import ipywidgets as widgets\n",
    "from dandi.dandiapi import DandiAPIClient\n",
    "from fsspec.implementations.cached import CachingFileSystem\n",
    "from pynwb import NWBHDF5IO\n",
    "from tqdm.notebook import tqdm\n",
    "\n",
    "from nwbwidgets.utils.dandi import (\n",
    "    get_dandiset_metadata,\n",
    "    get_file_url,\n",
    "    has_nwb,\n",
    "    list_dandiset_files,\n",
    ")"
   ]
  },
  {
   "cell_type": "code",
   "execution_count": 5,
   "id": "1ae8804c",
   "metadata": {},
   "outputs": [],
   "source": [
    "from IPython.display import display\n",
    "\n",
    "import numpy as np\n",
    "import plotly.graph_objects as go\n",
    "from ipywidgets import Layout, widgets\n",
    "from tifffile import imread\n",
    "\n",
    "from nwbwidgets.controllers import StartAndDurationController\n",
    "from nwbwidgets.image import ImageSeriesWidget\n",
    "from nwbwidgets.timeseries import SingleTracePlotlyWidget\n",
    "from nwbwidgets.utils.timeseries import get_timeseries_maxt, get_timeseries_mint\n",
    "\n",
    "from nwbwidgets.panel import Panel"
   ]
  },
  {
   "cell_type": "code",
   "execution_count": 52,
   "id": "610e8e05",
   "metadata": {},
   "outputs": [],
   "source": [
    "class Dashboard2(Panel):\n",
    "    def __init__(self,stream_mode: str = \"fsspec\",\n",
    "        enable_dandi_source: bool = True,\n",
    "        enable_s3_source: bool = True,\n",
    "        enable_local_source: bool = True,\n",
    "        **kwargs\n",
    "    ):\n",
    "        \n",
    "        super().__init__(self,stream_mode,\n",
    "        enable_dandi_source,\n",
    "        enable_s3_source,\n",
    "        enable_local_source,\n",
    "        **kwargs)\n",
    "    \n",
    "    def stream_dandiset_file(self, args=None):\n",
    "        \"\"\"Stream NWB file from DANDI\"\"\"\n",
    "        print(\"enterstream\")\n",
    "        self.widgets_panel.children = [widgets.Label(\"loading...\")]\n",
    "        dandiset_id = self.source_dandi_id.value.split(\"-\")[0].strip()\n",
    "        file_path = self.source_dandi_file_dropdown.value\n",
    "        s3_url = get_file_url(dandiset_id=dandiset_id, file_path=file_path)\n",
    "        self._stream_s3_file(s3_url)\n",
    "\n",
    "    def _stream_s3_file(self, s3_url):\n",
    "        print(\"enters3file\")\n",
    "        if self.stream_mode == \"ros3\":\n",
    "            print(\"enteros3\")\n",
    "            io = NWBHDF5IO(s3_url, mode=\"r\", load_namespaces=True, driver=\"ros3\")\n",
    "\n",
    "        else :\n",
    "            print(\"enterfsspec\")\n",
    "            fs = fsspec.filesystem(\"http\")\n",
    "            f = fs.open(s3_url, \"rb\")\n",
    "            file = h5py.File(f)\n",
    "            io = NWBHDF5IO(file=file, load_namespaces=True)\n",
    "\n",
    "        self.nwb = io.read()\n",
    "        self.process() \n",
    "        \n",
    "    \n",
    "    def load_local_dir_file(self, args=None):\n",
    "        \"\"\"Load local NWB file\"\"\"\n",
    "        full_file_path = str(Path(self.local_dir_path.value) / self.local_dir_files.value)\n",
    "        io = NWBHDF5IO(full_file_path, mode=\"r\", load_namespaces=True)\n",
    "        self.nwb = io.read()\n",
    "        self.process()\n",
    "        \n",
    "    \n",
    "    def load_local_file(self, args=None):\n",
    "        \"\"\"Load local NWB file\"\"\"\n",
    "        full_file_path = str(Path(self.local_file_path.value))\n",
    "        io = NWBHDF5IO(full_file_path, mode=\"r\", load_namespaces=True)\n",
    "        self.nwb = io.read()\n",
    "        self.process()\n",
    "        \n",
    "    def process(self):\n",
    "        \n",
    "        self.acqkeys = list(self.nwb.acquisition.keys())\n",
    "        self.stimkeys = list(self.nwb.stimulus.keys())\n",
    "        \n",
    "        in1 = 0\n",
    "        \n",
    "        #Start time and duration controller\n",
    "        self.tmin = get_timeseries_mint(\n",
    "            self.make_ts(self.nwb.acquisition[self.acqkeys[in1]])\n",
    "        )\n",
    "        self.tmax = get_timeseries_maxt(\n",
    "            self.make_ts(self.nwb.acquisition[self.acqkeys[in1]])\n",
    "        )\n",
    "        self.time_window_controller = StartAndDurationController(\n",
    "            tmin=self.tmin,\n",
    "            tmax=self.tmax,\n",
    "            start=0\n",
    "        )\n",
    "        \n",
    "                # Electrophys single trace \n",
    "        self.electrical = SingleTracePlotlyWidget(\n",
    "            timeseries=self.make_ts(self.nwb.acquisition[self.acqkeys[in1]]),\n",
    "                              foreign_time_window_controller=self.time_window_controller)\n",
    "        self.ebase = self.electrical.out_fig.data[0].x\n",
    "        \n",
    "        for i in range(1,len(self.acqkeys)):\n",
    "            self.electrical.out_fig.add_trace(go.Scatter(x=self.ebase,y=self.nwb.acquisition[self.acqkeys[i]].data[:]))\n",
    "        \n",
    "        \n",
    "        self.electrical.out_fig.update_layout(\n",
    "            title=None,\n",
    "            showlegend=False,\n",
    "            xaxis_title=None,\n",
    "            yaxis_title=\"mVolts\",\n",
    "            width=840,\n",
    "            height=230,\n",
    "            margin=dict(l=60, r=200, t=8, b=20),\n",
    "            # yaxis={\"position\": 0, \"anchor\": \"free\"},\n",
    "            yaxis={\n",
    "                \"range\": [\n",
    "                     min(self.electrical.out_fig.data[0].y),\n",
    "                     max(self.electrical.out_fig.data[-1].y),\n",
    "                ],\n",
    "                \"autorange\": False,\n",
    "            },\n",
    "            xaxis={\n",
    "                \"showticklabels\": False,\n",
    "                \"ticks\": \"\",\n",
    "                \"range\": [\n",
    "                    min(self.electrical.out_fig.data[0].x),\n",
    "                    max(self.electrical.out_fig.data[0].x),\n",
    "                ],\n",
    "                \"autorange\": False,\n",
    "            },\n",
    "        )\n",
    "        \n",
    "        \n",
    "        \n",
    "        # Fluorescence single trace\n",
    "        self.fluorescence = SingleTracePlotlyWidget(\n",
    "            timeseries=self.make_ts(self.nwb.stimulus[self.stimkeys[in1]]),\n",
    "                              foreign_time_window_controller=self.time_window_controller)\n",
    "        \n",
    "        self.fbase = self.fluorescence.out_fig.data[0].x\n",
    "        \n",
    "        for i in range(1,len(self.stimkeys)):\n",
    "            self.fluorescence.out_fig.add_trace(go.Scatter(x=self.fbase,y=self.nwb.stimulus[self.stimkeys[i]].data[:]))\n",
    "            \n",
    "        \n",
    "        self.fluorescence.out_fig.update_layout(\n",
    "            title=None,\n",
    "            showlegend=False,\n",
    "            width=840,\n",
    "            height=230,\n",
    "            margin=dict(l=60, r=200, t=8, b=20),\n",
    "            yaxis_title=\"mA\",\n",
    "            yaxis={\n",
    "                \"range\": [\n",
    "                    min(self.fluorescence.out_fig.data[0].y),\n",
    "                    max(self.fluorescence.out_fig.data[-1].y),\n",
    "                ],\n",
    "                \"autorange\": False,\n",
    "            },\n",
    "            xaxis={\n",
    "                \"range\": [\n",
    "                    min(self.fluorescence.out_fig.data[0].x),\n",
    "                    max(self.fluorescence.out_fig.data[0].x),\n",
    "                ],\n",
    "                \"autorange\": False,\n",
    "                \"constrain\": \"domain\",\n",
    "                \"anchor\": \"free\",\n",
    "            },\n",
    "        )\n",
    "        \n",
    "        self.trace_widgets = self.makeTraceWid()\n",
    "        \n",
    "        self.tvaluelist = [False for i in range(len(self.tracelist))]\n",
    "        self.oldtval = self.tvaluelist\n",
    "        \n",
    "        for i in range(len(self.tracelist)):\n",
    "            self.tracelist[i].observe(self.obs)\n",
    "                \n",
    "        hbox_header = widgets.HBox([self.time_window_controller])\n",
    "        vbox_widgets = widgets.VBox([self.electrical, self.fluorescence])\n",
    "        hbox_widgets = widgets.HBox([vbox_widgets])\n",
    "        hbox_widgets2 = widgets.HBox([self.trace_widgets])\n",
    "        \n",
    "        self.widgets_panel.children = [hbox_header, hbox_widgets, hbox_widgets2]\n",
    "        \n",
    " \n",
    "    def process_dandiset(self, dandiset):\n",
    "        try:\n",
    "            metadata = dandiset.get_metadata()\n",
    "            if has_nwb(metadata):\n",
    "                return metadata\n",
    "        except:\n",
    "            pass\n",
    "        return None       \n",
    "\n",
    "\n",
    "    def toggle_cache(self, args):\n",
    "        if isinstance(args[\"new\"], dict):\n",
    "            if args[\"new\"].get(\"value\") is True:\n",
    "                self.cache_path_text.layout.visibility = \"visible\"\n",
    "            elif args[\"new\"].get(\"value\") is False:\n",
    "                self.cache_path_text.layout.visibility = \"hidden\"\n",
    "     \n",
    "    def make_ts(self,nwb_obj,name=\"Trace\"):\n",
    "        return pynwb.base.TimeSeries(name=name,data=nwb_obj.data[:],starting_time=0.,rate=nwb_obj.rate,unit=nwb_obj.starting_time_unit)\n",
    "    \n",
    "\n",
    "    \n",
    "    def updateVals(self):\n",
    "        self.tvaluelist = [self.tracelist[i].value for i in range(len(self.tracelist))]\n",
    "    \n",
    "    def makeTraceWid(self):\n",
    "        self.tracelist = []\n",
    "        for i in range(len(self.stimkeys)):\n",
    "              self.tracelist.append(widgets.Checkbox(False, description=''))\n",
    "        \n",
    "        return(widgets.GridBox(self.tracelist, layout=widgets.Layout(grid_template_columns=\"repeat(4, 150px)\")))\n",
    "    \n",
    "    def obs(self,change):\n",
    "        if isinstance(change[\"new\"], bool):\n",
    "            self.updateVals()\n",
    "            print(self.tvaluelist)\n",
    "            self.compute_plot()\n",
    "            \n",
    "    def compute_plot(self):\n",
    "        if(self.tvaluelist == [False for i in range(len(self.tvaluelist))]):\n",
    "            for i in range(len(self.tvaluelist)):\n",
    "                    self.electrical.out_fig.data[i].visible = True\n",
    "                    self.fluorescence.out_fig.data[i].visible = True\n",
    "                    continue\n",
    "        else:\n",
    "            for i in range(len(self.tvaluelist)):\n",
    "                self.electrical.out_fig.data[i].visible = self.tvaluelist[i]\n",
    "                self.fluorescence.out_fig.data[i].visible = self.tvaluelist[i]\n",
    "            \n",
    "        \n",
    "        \n",
    "        \n",
    "        \n",
    "        \n",
    "        \n",
    "    "
   ]
  },
  {
   "cell_type": "code",
   "execution_count": 53,
   "id": "9c222e7a",
   "metadata": {
    "scrolled": false
   },
   "outputs": [
    {
     "data": {
      "application/vnd.jupyter.widget-view+json": {
       "model_id": "13f3715760694d1ea548ce2fc69def65",
       "version_major": 2,
       "version_minor": 0
      },
      "text/plain": [
       "Dashboard2(children=(HBox(children=(VBox(children=(RadioButtons(layout=Layout(width='100px'), options=('Local …"
      ]
     },
     "execution_count": 53,
     "metadata": {},
     "output_type": "execute_result"
    },
    {
     "data": {
      "application/vnd.jupyter.widget-view+json": {
       "model_id": "2792a9c6a2654bd5a4a6db4cf14ae92f",
       "version_major": 2,
       "version_minor": 0
      },
      "text/plain": [
       "Loading dandiset metadata:   0%|          | 0/289 [00:00<?, ?it/s]"
      ]
     },
     "metadata": {},
     "output_type": "display_data"
    },
    {
     "name": "stdout",
     "output_type": "stream",
     "text": [
      "enterstream\n",
      "enters3file\n",
      "enterfsspec\n",
      "[True, False, False, False, False, False, False, False, False, False, False, False, False, False, False, False]\n"
     ]
    },
    {
     "ename": "UnboundLocalError",
     "evalue": "local variable 'i' referenced before assignment",
     "output_type": "error",
     "traceback": [
      "\u001b[0;31m---------------------------------------------------------------------------\u001b[0m",
      "\u001b[0;31mUnboundLocalError\u001b[0m                         Traceback (most recent call last)",
      "File \u001b[0;32m~/.local/lib/python3.10/site-packages/ipywidgets/widgets/widget.py:773\u001b[0m, in \u001b[0;36mWidget._handle_msg\u001b[0;34m(self, msg)\u001b[0m\n\u001b[1;32m    771\u001b[0m         \u001b[38;5;28;01mif\u001b[39;00m \u001b[38;5;124m'\u001b[39m\u001b[38;5;124mbuffer_paths\u001b[39m\u001b[38;5;124m'\u001b[39m \u001b[38;5;129;01min\u001b[39;00m data:\n\u001b[1;32m    772\u001b[0m             _put_buffers(state, data[\u001b[38;5;124m'\u001b[39m\u001b[38;5;124mbuffer_paths\u001b[39m\u001b[38;5;124m'\u001b[39m], msg[\u001b[38;5;124m'\u001b[39m\u001b[38;5;124mbuffers\u001b[39m\u001b[38;5;124m'\u001b[39m])\n\u001b[0;32m--> 773\u001b[0m         \u001b[38;5;28;43mself\u001b[39;49m\u001b[38;5;241;43m.\u001b[39;49m\u001b[43mset_state\u001b[49m\u001b[43m(\u001b[49m\u001b[43mstate\u001b[49m\u001b[43m)\u001b[49m\n\u001b[1;32m    775\u001b[0m \u001b[38;5;66;03m# Handle a state request.\u001b[39;00m\n\u001b[1;32m    776\u001b[0m \u001b[38;5;28;01melif\u001b[39;00m method \u001b[38;5;241m==\u001b[39m \u001b[38;5;124m'\u001b[39m\u001b[38;5;124mrequest_state\u001b[39m\u001b[38;5;124m'\u001b[39m:\n",
      "File \u001b[0;32m~/.local/lib/python3.10/site-packages/ipywidgets/widgets/widget.py:650\u001b[0m, in \u001b[0;36mWidget.set_state\u001b[0;34m(self, sync_data)\u001b[0m\n\u001b[1;32m    645\u001b[0m         \u001b[38;5;28mself\u001b[39m\u001b[38;5;241m.\u001b[39m_send(msg, buffers\u001b[38;5;241m=\u001b[39mecho_buffers)\n\u001b[1;32m    647\u001b[0m \u001b[38;5;66;03m# The order of these context managers is important. Properties must\u001b[39;00m\n\u001b[1;32m    648\u001b[0m \u001b[38;5;66;03m# be locked when the hold_trait_notification context manager is\u001b[39;00m\n\u001b[1;32m    649\u001b[0m \u001b[38;5;66;03m# released and notifications are fired.\u001b[39;00m\n\u001b[0;32m--> 650\u001b[0m \u001b[38;5;28;01mwith\u001b[39;00m \u001b[38;5;28mself\u001b[39m\u001b[38;5;241m.\u001b[39m_lock_property(\u001b[38;5;241m*\u001b[39m\u001b[38;5;241m*\u001b[39msync_data), \u001b[38;5;28mself\u001b[39m\u001b[38;5;241m.\u001b[39mhold_trait_notifications():\n\u001b[1;32m    651\u001b[0m     \u001b[38;5;28;01mfor\u001b[39;00m name \u001b[38;5;129;01min\u001b[39;00m sync_data:\n\u001b[1;32m    652\u001b[0m         \u001b[38;5;28;01mif\u001b[39;00m name \u001b[38;5;129;01min\u001b[39;00m \u001b[38;5;28mself\u001b[39m\u001b[38;5;241m.\u001b[39mkeys:\n",
      "File \u001b[0;32m/usr/lib/python3.10/contextlib.py:142\u001b[0m, in \u001b[0;36m_GeneratorContextManager.__exit__\u001b[0;34m(self, typ, value, traceback)\u001b[0m\n\u001b[1;32m    140\u001b[0m \u001b[38;5;28;01mif\u001b[39;00m typ \u001b[38;5;129;01mis\u001b[39;00m \u001b[38;5;28;01mNone\u001b[39;00m:\n\u001b[1;32m    141\u001b[0m     \u001b[38;5;28;01mtry\u001b[39;00m:\n\u001b[0;32m--> 142\u001b[0m         \u001b[38;5;28;43mnext\u001b[39;49m\u001b[43m(\u001b[49m\u001b[38;5;28;43mself\u001b[39;49m\u001b[38;5;241;43m.\u001b[39;49m\u001b[43mgen\u001b[49m\u001b[43m)\u001b[49m\n\u001b[1;32m    143\u001b[0m     \u001b[38;5;28;01mexcept\u001b[39;00m \u001b[38;5;167;01mStopIteration\u001b[39;00m:\n\u001b[1;32m    144\u001b[0m         \u001b[38;5;28;01mreturn\u001b[39;00m \u001b[38;5;28;01mFalse\u001b[39;00m\n",
      "File \u001b[0;32m~/.local/lib/python3.10/site-packages/traitlets/traitlets.py:1502\u001b[0m, in \u001b[0;36mHasTraits.hold_trait_notifications\u001b[0;34m(self)\u001b[0m\n\u001b[1;32m   1500\u001b[0m \u001b[38;5;28;01mfor\u001b[39;00m changes \u001b[38;5;129;01min\u001b[39;00m cache\u001b[38;5;241m.\u001b[39mvalues():\n\u001b[1;32m   1501\u001b[0m     \u001b[38;5;28;01mfor\u001b[39;00m change \u001b[38;5;129;01min\u001b[39;00m changes:\n\u001b[0;32m-> 1502\u001b[0m         \u001b[38;5;28;43mself\u001b[39;49m\u001b[38;5;241;43m.\u001b[39;49m\u001b[43mnotify_change\u001b[49m\u001b[43m(\u001b[49m\u001b[43mchange\u001b[49m\u001b[43m)\u001b[49m\n",
      "File \u001b[0;32m~/.local/lib/python3.10/site-packages/ipywidgets/widgets/widget.py:701\u001b[0m, in \u001b[0;36mWidget.notify_change\u001b[0;34m(self, change)\u001b[0m\n\u001b[1;32m    698\u001b[0m     \u001b[38;5;28;01mif\u001b[39;00m name \u001b[38;5;129;01min\u001b[39;00m \u001b[38;5;28mself\u001b[39m\u001b[38;5;241m.\u001b[39mkeys \u001b[38;5;129;01mand\u001b[39;00m \u001b[38;5;28mself\u001b[39m\u001b[38;5;241m.\u001b[39m_should_send_property(name, \u001b[38;5;28mgetattr\u001b[39m(\u001b[38;5;28mself\u001b[39m, name)):\n\u001b[1;32m    699\u001b[0m         \u001b[38;5;66;03m# Send new state to front-end\u001b[39;00m\n\u001b[1;32m    700\u001b[0m         \u001b[38;5;28mself\u001b[39m\u001b[38;5;241m.\u001b[39msend_state(key\u001b[38;5;241m=\u001b[39mname)\n\u001b[0;32m--> 701\u001b[0m \u001b[38;5;28;43msuper\u001b[39;49m\u001b[43m(\u001b[49m\u001b[43m)\u001b[49m\u001b[38;5;241;43m.\u001b[39;49m\u001b[43mnotify_change\u001b[49m\u001b[43m(\u001b[49m\u001b[43mchange\u001b[49m\u001b[43m)\u001b[49m\n",
      "File \u001b[0;32m~/.local/lib/python3.10/site-packages/traitlets/traitlets.py:1517\u001b[0m, in \u001b[0;36mHasTraits.notify_change\u001b[0;34m(self, change)\u001b[0m\n\u001b[1;32m   1515\u001b[0m \u001b[38;5;28;01mdef\u001b[39;00m \u001b[38;5;21mnotify_change\u001b[39m(\u001b[38;5;28mself\u001b[39m, change):\n\u001b[1;32m   1516\u001b[0m \u001b[38;5;250m    \u001b[39m\u001b[38;5;124;03m\"\"\"Notify observers of a change event\"\"\"\u001b[39;00m\n\u001b[0;32m-> 1517\u001b[0m     \u001b[38;5;28;01mreturn\u001b[39;00m \u001b[38;5;28;43mself\u001b[39;49m\u001b[38;5;241;43m.\u001b[39;49m\u001b[43m_notify_observers\u001b[49m\u001b[43m(\u001b[49m\u001b[43mchange\u001b[49m\u001b[43m)\u001b[49m\n",
      "File \u001b[0;32m~/.local/lib/python3.10/site-packages/traitlets/traitlets.py:1564\u001b[0m, in \u001b[0;36mHasTraits._notify_observers\u001b[0;34m(self, event)\u001b[0m\n\u001b[1;32m   1561\u001b[0m \u001b[38;5;28;01melif\u001b[39;00m \u001b[38;5;28misinstance\u001b[39m(c, EventHandler) \u001b[38;5;129;01mand\u001b[39;00m c\u001b[38;5;241m.\u001b[39mname \u001b[38;5;129;01mis\u001b[39;00m \u001b[38;5;129;01mnot\u001b[39;00m \u001b[38;5;28;01mNone\u001b[39;00m:\n\u001b[1;32m   1562\u001b[0m     c \u001b[38;5;241m=\u001b[39m \u001b[38;5;28mgetattr\u001b[39m(\u001b[38;5;28mself\u001b[39m, c\u001b[38;5;241m.\u001b[39mname)\n\u001b[0;32m-> 1564\u001b[0m \u001b[43mc\u001b[49m\u001b[43m(\u001b[49m\u001b[43mevent\u001b[49m\u001b[43m)\u001b[49m\n",
      "Cell \u001b[0;32mIn[52], line 203\u001b[0m, in \u001b[0;36mDashboard2.obs\u001b[0;34m(self, change)\u001b[0m\n\u001b[1;32m    201\u001b[0m \u001b[38;5;28mself\u001b[39m\u001b[38;5;241m.\u001b[39mupdateVals()\n\u001b[1;32m    202\u001b[0m \u001b[38;5;28mprint\u001b[39m(\u001b[38;5;28mself\u001b[39m\u001b[38;5;241m.\u001b[39mtvaluelist)\n\u001b[0;32m--> 203\u001b[0m \u001b[38;5;28;43mself\u001b[39;49m\u001b[38;5;241;43m.\u001b[39;49m\u001b[43mcompute_plot\u001b[49m\u001b[43m(\u001b[49m\u001b[43m)\u001b[49m\n",
      "Cell \u001b[0;32mIn[52], line 212\u001b[0m, in \u001b[0;36mDashboard2.compute_plot\u001b[0;34m(self)\u001b[0m\n\u001b[1;32m    210\u001b[0m             \u001b[38;5;28;01mcontinue\u001b[39;00m\n\u001b[1;32m    211\u001b[0m \u001b[38;5;28;01melse\u001b[39;00m:\n\u001b[0;32m--> 212\u001b[0m     \u001b[38;5;28mself\u001b[39m\u001b[38;5;241m.\u001b[39melectrical\u001b[38;5;241m.\u001b[39mout_fig\u001b[38;5;241m.\u001b[39mdata[i]\u001b[38;5;241m.\u001b[39mvisible \u001b[38;5;241m=\u001b[39m \u001b[38;5;28mself\u001b[39m\u001b[38;5;241m.\u001b[39mtvaluelist[\u001b[43mi\u001b[49m]\n\u001b[1;32m    213\u001b[0m     \u001b[38;5;28mself\u001b[39m\u001b[38;5;241m.\u001b[39mfluorescence\u001b[38;5;241m.\u001b[39mout_fig\u001b[38;5;241m.\u001b[39mdata[i]\u001b[38;5;241m.\u001b[39mvisible \u001b[38;5;241m=\u001b[39m \u001b[38;5;28mself\u001b[39m\u001b[38;5;241m.\u001b[39mtvaluelist[i]\n",
      "\u001b[0;31mUnboundLocalError\u001b[0m: local variable 'i' referenced before assignment"
     ]
    }
   ],
   "source": [
    "app = Dashboard2(\"fsspec\")\n",
    "app"
   ]
  },
  {
   "cell_type": "markdown",
   "id": "6f6e55dc",
   "metadata": {},
   "source": [
    "    def make_ts1(self,data,name=\"Trace\"):\n",
    "        return pynwb.base.TimeSeries(name=name,data=data,starting_time=0.,rate=16666.66,unit='seconds')\n",
    "    \n",
    "    def make_ts1stim(self,nwbobj):\n",
    "        data = np.array([app.nwb.stimulus[app.stimkeys[0]].data[:]])\n",
    "        for i in range(1,len(app.stimkeys)):\n",
    "            tempd = [app.nwb.stimulus[app.stimkeys[i]].data[:]]\n",
    "            data = np.append(data,tempd,axis=0)\n",
    "        return(self.make_ts1(data))\n",
    "    \n",
    "    def make_ts1acq(self,nwbobj):\n",
    "        data = np.array([app.nwb.acquisition[app.acqkeys[0]].data[:]])\n",
    "        for i in range(1,len(app.acqkeys)):\n",
    "            tempd = [app.nwb.acquisition[app.acqkeys[i]].data[:]]\n",
    "            data = np.append(data,tempd,axis=0)\n",
    "        return(self.make_ts1(data))"
   ]
  },
  {
   "cell_type": "code",
   "execution_count": 27,
   "id": "63b2e14e",
   "metadata": {},
   "outputs": [
    {
     "data": {
      "text/plain": [
       "1"
      ]
     },
     "execution_count": 27,
     "metadata": {},
     "output_type": "execute_result"
    }
   ],
   "source": [
    "a = [True,False]\n",
    "b = [True,True]\n",
    "True - False"
   ]
  },
  {
   "cell_type": "code",
   "execution_count": 21,
   "id": "0d8a44d6",
   "metadata": {},
   "outputs": [
    {
     "data": {
      "application/vnd.jupyter.widget-view+json": {
       "model_id": "a0d390c6f04844b2a0843559d7df8d4e",
       "version_major": 2,
       "version_minor": 0
      },
      "text/plain": [
       "FigureWidget({\n",
       "    'data': [{'mode': 'lines',\n",
       "              'type': 'scattergl',\n",
       "              'uid': 'f0be5c8c-5f54-4e7c-b742-1b3bb7186b1c',\n",
       "              'x': array([0.    , 0.0001, 0.0001, ..., 2.632 , 2.6321, 2.6321]),\n",
       "              'xaxis': 'x',\n",
       "              'y': array([0., 0., 0., ..., 0., 0., 0.], dtype=float32),\n",
       "              'yaxis': 'y'},\n",
       "             {'type': 'scatter',\n",
       "              'uid': '12720dcb-b560-4931-abbc-0ec78b813261',\n",
       "              'x': array([0.    , 0.0001, 0.0001, ..., 2.632 , 2.6321, 2.6321]),\n",
       "              'y': array([0., 0., 0., ..., 0., 0., 0.], dtype=float32)},\n",
       "             {'type': 'scatter',\n",
       "              'uid': '98895124-85b5-419a-8fb7-d38d7c615c97',\n",
       "              'x': array([0.    , 0.0001, 0.0001, ..., 2.632 , 2.6321, 2.6321]),\n",
       "              'y': array([0., 0., 0., ..., 0., 0., 0.], dtype=float32)},\n",
       "             {'type': 'scatter',\n",
       "              'uid': 'c9aa8927-df76-4928-a7d7-7d4daba1ae55',\n",
       "              'x': array([0.    , 0.0001, 0.0001, ..., 2.632 , 2.6321, 2.6321]),\n",
       "              'y': array([0., 0., 0., ..., 0., 0., 0.], dtype=float32)},\n",
       "             {'type': 'scatter',\n",
       "              'uid': '417f587d-0c93-4b58-9bf4-1551f240548d',\n",
       "              'x': array([0.    , 0.0001, 0.0001, ..., 2.632 , 2.6321, 2.6321]),\n",
       "              'y': array([0., 0., 0., ..., 0., 0., 0.], dtype=float32)},\n",
       "             {'type': 'scatter',\n",
       "              'uid': '20aa0302-f8b0-47db-955e-c9e677cef953',\n",
       "              'x': array([0.    , 0.0001, 0.0001, ..., 2.632 , 2.6321, 2.6321]),\n",
       "              'y': array([0., 0., 0., ..., 0., 0., 0.], dtype=float32)},\n",
       "             {'type': 'scatter',\n",
       "              'uid': '4ebbaceb-fd58-40bf-9fbf-7f4d54a30da6',\n",
       "              'x': array([0.    , 0.0001, 0.0001, ..., 2.632 , 2.6321, 2.6321]),\n",
       "              'y': array([0., 0., 0., ..., 0., 0., 0.], dtype=float32)},\n",
       "             {'type': 'scatter',\n",
       "              'uid': 'c1c1d90f-2b3b-4290-9bd9-8a3213e945ad',\n",
       "              'x': array([0.    , 0.0001, 0.0001, ..., 2.632 , 2.6321, 2.6321]),\n",
       "              'y': array([0., 0., 0., ..., 0., 0., 0.], dtype=float32)},\n",
       "             {'type': 'scatter',\n",
       "              'uid': '02378e95-8574-47ce-8d5c-68f09655b7c7',\n",
       "              'x': array([0.    , 0.0001, 0.0001, ..., 2.632 , 2.6321, 2.6321]),\n",
       "              'y': array([0., 0., 0., ..., 0., 0., 0.], dtype=float32)},\n",
       "             {'type': 'scatter',\n",
       "              'uid': '90ac2557-6fb6-4d52-be9a-2f7ea323f912',\n",
       "              'x': array([0.    , 0.0001, 0.0001, ..., 2.632 , 2.6321, 2.6321]),\n",
       "              'y': array([0., 0., 0., ..., 0., 0., 0.], dtype=float32)},\n",
       "             {'type': 'scatter',\n",
       "              'uid': 'bb377d84-b343-4ba1-a7fa-c5984a35e724',\n",
       "              'x': array([0.    , 0.0001, 0.0001, ..., 2.632 , 2.6321, 2.6321]),\n",
       "              'y': array([0., 0., 0., ..., 0., 0., 0.], dtype=float32)},\n",
       "             {'type': 'scatter',\n",
       "              'uid': '233be1be-f52e-41d4-adb2-1ffe3ca710bb',\n",
       "              'x': array([0.    , 0.0001, 0.0001, ..., 2.632 , 2.6321, 2.6321]),\n",
       "              'y': array([0., 0., 0., ..., 0., 0., 0.], dtype=float32)},\n",
       "             {'type': 'scatter',\n",
       "              'uid': 'ebaded62-d6b4-4211-b130-ebf5cce08a22',\n",
       "              'x': array([0.    , 0.0001, 0.0001, ..., 2.632 , 2.6321, 2.6321]),\n",
       "              'y': array([0., 0., 0., ..., 0., 0., 0.], dtype=float32)},\n",
       "             {'type': 'scatter',\n",
       "              'uid': '240122cc-02f9-4cdc-9a96-23d495df037e',\n",
       "              'x': array([0.    , 0.0001, 0.0001, ..., 2.632 , 2.6321, 2.6321]),\n",
       "              'y': array([0., 0., 0., ..., 0., 0., 0.], dtype=float32)},\n",
       "             {'type': 'scatter',\n",
       "              'uid': '2d15ab5b-eb91-4290-b214-7d60e2eaa7bf',\n",
       "              'x': array([0.    , 0.0001, 0.0001, ..., 2.632 , 2.6321, 2.6321]),\n",
       "              'y': array([0., 0., 0., ..., 0., 0., 0.], dtype=float32)},\n",
       "             {'type': 'scatter',\n",
       "              'uid': 'a9138fc6-8c64-4836-9780-797e31583c4d',\n",
       "              'x': array([0.    , 0.0001, 0.0001, ..., 2.632 , 2.6321, 2.6321]),\n",
       "              'y': array([0., 0., 0., ..., 0., 0., 0.], dtype=float32)}],\n",
       "    'layout': {'height': 230,\n",
       "               'margin': {'b': 20, 'l': 60, 'r': 200, 't': 8},\n",
       "               'showlegend': False,\n",
       "               'template': '...',\n",
       "               'width': 840,\n",
       "               'xaxis': {'anchor': 'free',\n",
       "                         'autorange': False,\n",
       "                         'constrain': 'domain',\n",
       "                         'domain': [0.0, 1.0],\n",
       "                         'range': [0.0, 2.6321],\n",
       "                         'title': {'text': 'time (s)'}},\n",
       "               'yaxis': {'anchor': 'x',\n",
       "                         'autorange': False,\n",
       "                         'domain': [0.0, 1.0],\n",
       "                         'range': [-350.0, 400.0],\n",
       "                         'title': {'text': 'mA'}}}\n",
       "})"
      ]
     },
     "execution_count": 21,
     "metadata": {},
     "output_type": "execute_result"
    }
   ],
   "source": [
    "app.fluorescence.out_fig"
   ]
  },
  {
   "cell_type": "code",
   "execution_count": 37,
   "id": "51d46c62",
   "metadata": {},
   "outputs": [
    {
     "data": {
      "application/vnd.jupyter.widget-view+json": {
       "model_id": "a0d390c6f04844b2a0843559d7df8d4e",
       "version_major": 2,
       "version_minor": 0
      },
      "text/plain": [
       "FigureWidget({\n",
       "    'data': [{'type': 'scatter',\n",
       "              'uid': 'df74a209-8d00-4beb-a935-27e872175245',\n",
       "              'x': array([0.    , 0.0001, 0.0001, ..., 2.632 , 2.6321, 2.6321]),\n",
       "              'y': array([0., 0., 0., ..., 0., 0., 0.], dtype=float32)}],\n",
       "    'layout': {'height': 230,\n",
       "               'margin': {'b': 20, 'l': 60, 'r': 200, 't': 8},\n",
       "               'showlegend': False,\n",
       "               'template': '...',\n",
       "               'width': 840,\n",
       "               'xaxis': {'anchor': 'free',\n",
       "                         'autorange': False,\n",
       "                         'constrain': 'domain',\n",
       "                         'domain': [0.0, 1.0],\n",
       "                         'range': [0.0, 2.6321],\n",
       "                         'title': {'text': 'time (s)'}},\n",
       "               'yaxis': {'anchor': 'x',\n",
       "                         'autorange': False,\n",
       "                         'domain': [0.0, 1.0],\n",
       "                         'range': [-350.0, 400.0],\n",
       "                         'title': {'text': 'mA'}}}\n",
       "})"
      ]
     },
     "execution_count": 37,
     "metadata": {},
     "output_type": "execute_result"
    }
   ],
   "source": [
    "app.fluorescence.out_fig.add_trace(go.Scatter(x=app.electrical.out_fig.data[0].x,y=app.nwb.stimulus[app.stimkeys[1]].data[:]))"
   ]
  },
  {
   "cell_type": "code",
   "execution_count": 43,
   "id": "f0811ec0",
   "metadata": {},
   "outputs": [
    {
     "ename": "ValueError",
     "evalue": "\n    Invalid value of type 'IPython.utils.text.SList' received for the 'visible' property of scatter\n        Received value: ['/bin/bash: line 1: False: command not found']\n\n    The 'visible' property is an enumeration that may be specified as:\n      - One of the following enumeration values:\n            [True, False, 'legendonly']",
     "output_type": "error",
     "traceback": [
      "\u001b[0;31m---------------------------------------------------------------------------\u001b[0m",
      "\u001b[0;31mValueError\u001b[0m                                Traceback (most recent call last)",
      "Cell \u001b[0;32mIn[43], line 1\u001b[0m\n\u001b[0;32m----> 1\u001b[0m \u001b[43mapp\u001b[49m\u001b[38;5;241;43m.\u001b[39;49m\u001b[43mfluorescence\u001b[49m\u001b[38;5;241;43m.\u001b[39;49m\u001b[43mout_fig\u001b[49m\u001b[38;5;241;43m.\u001b[39;49m\u001b[43mdata\u001b[49m\u001b[43m[\u001b[49m\u001b[38;5;241;43m0\u001b[39;49m\u001b[43m]\u001b[49m\u001b[38;5;241;43m.\u001b[39;49m\u001b[43mvisible\u001b[49m \u001b[38;5;241m=\u001b[39m get_ipython()\u001b[38;5;241m.\u001b[39mgetoutput(\u001b[38;5;124m'\u001b[39m\u001b[38;5;124m(False)\u001b[39m\u001b[38;5;124m'\u001b[39m)\n",
      "File \u001b[0;32m~/.local/lib/python3.10/site-packages/plotly/basedatatypes.py:4929\u001b[0m, in \u001b[0;36mBasePlotlyType.__setattr__\u001b[0;34m(self, prop, value)\u001b[0m\n\u001b[1;32m   4916\u001b[0m \u001b[38;5;250m\u001b[39m\u001b[38;5;124;03m\"\"\"\u001b[39;00m\n\u001b[1;32m   4917\u001b[0m \u001b[38;5;124;03mParameters\u001b[39;00m\n\u001b[1;32m   4918\u001b[0m \u001b[38;5;124;03m----------\u001b[39;00m\n\u001b[0;32m   (...)\u001b[0m\n\u001b[1;32m   4925\u001b[0m \u001b[38;5;124;03mNone\u001b[39;00m\n\u001b[1;32m   4926\u001b[0m \u001b[38;5;124;03m\"\"\"\u001b[39;00m\n\u001b[1;32m   4927\u001b[0m \u001b[38;5;28;01mif\u001b[39;00m prop\u001b[38;5;241m.\u001b[39mstartswith(\u001b[38;5;124m\"\u001b[39m\u001b[38;5;124m_\u001b[39m\u001b[38;5;124m\"\u001b[39m) \u001b[38;5;129;01mor\u001b[39;00m \u001b[38;5;28mhasattr\u001b[39m(\u001b[38;5;28mself\u001b[39m, prop) \u001b[38;5;129;01mor\u001b[39;00m prop \u001b[38;5;129;01min\u001b[39;00m \u001b[38;5;28mself\u001b[39m\u001b[38;5;241m.\u001b[39m_valid_props:\n\u001b[1;32m   4928\u001b[0m     \u001b[38;5;66;03m# Let known properties and private properties through\u001b[39;00m\n\u001b[0;32m-> 4929\u001b[0m     \u001b[38;5;28;43msuper\u001b[39;49m\u001b[43m(\u001b[49m\u001b[43mBasePlotlyType\u001b[49m\u001b[43m,\u001b[49m\u001b[43m \u001b[49m\u001b[38;5;28;43mself\u001b[39;49m\u001b[43m)\u001b[49m\u001b[38;5;241;43m.\u001b[39;49m\u001b[38;5;21;43m__setattr__\u001b[39;49m\u001b[43m(\u001b[49m\u001b[43mprop\u001b[49m\u001b[43m,\u001b[49m\u001b[43m \u001b[49m\u001b[43mvalue\u001b[49m\u001b[43m)\u001b[49m\n\u001b[1;32m   4930\u001b[0m \u001b[38;5;28;01melse\u001b[39;00m:\n\u001b[1;32m   4931\u001b[0m     \u001b[38;5;66;03m# Raise error on unknown public properties\u001b[39;00m\n\u001b[1;32m   4932\u001b[0m     \u001b[38;5;28mself\u001b[39m\u001b[38;5;241m.\u001b[39m_raise_on_invalid_property_error()(prop)\n",
      "File \u001b[0;32m~/.local/lib/python3.10/site-packages/plotly/graph_objs/_scatter.py:1890\u001b[0m, in \u001b[0;36mScatter.visible\u001b[0;34m(self, val)\u001b[0m\n\u001b[1;32m   1888\u001b[0m \u001b[38;5;129m@visible\u001b[39m\u001b[38;5;241m.\u001b[39msetter\n\u001b[1;32m   1889\u001b[0m \u001b[38;5;28;01mdef\u001b[39;00m \u001b[38;5;21mvisible\u001b[39m(\u001b[38;5;28mself\u001b[39m, val):\n\u001b[0;32m-> 1890\u001b[0m     \u001b[38;5;28;43mself\u001b[39;49m\u001b[43m[\u001b[49m\u001b[38;5;124;43m\"\u001b[39;49m\u001b[38;5;124;43mvisible\u001b[39;49m\u001b[38;5;124;43m\"\u001b[39;49m\u001b[43m]\u001b[49m \u001b[38;5;241m=\u001b[39m val\n",
      "File \u001b[0;32m~/.local/lib/python3.10/site-packages/plotly/basedatatypes.py:4873\u001b[0m, in \u001b[0;36mBasePlotlyType.__setitem__\u001b[0;34m(self, prop, value)\u001b[0m\n\u001b[1;32m   4869\u001b[0m         \u001b[38;5;28mself\u001b[39m\u001b[38;5;241m.\u001b[39m_set_array_prop(prop, value)\n\u001b[1;32m   4871\u001b[0m     \u001b[38;5;66;03m# ### Handle simple property ###\u001b[39;00m\n\u001b[1;32m   4872\u001b[0m     \u001b[38;5;28;01melse\u001b[39;00m:\n\u001b[0;32m-> 4873\u001b[0m         \u001b[38;5;28;43mself\u001b[39;49m\u001b[38;5;241;43m.\u001b[39;49m\u001b[43m_set_prop\u001b[49m\u001b[43m(\u001b[49m\u001b[43mprop\u001b[49m\u001b[43m,\u001b[49m\u001b[43m \u001b[49m\u001b[43mvalue\u001b[49m\u001b[43m)\u001b[49m\n\u001b[1;32m   4874\u001b[0m \u001b[38;5;28;01melse\u001b[39;00m:\n\u001b[1;32m   4875\u001b[0m     \u001b[38;5;66;03m# Make sure properties dict is initialized\u001b[39;00m\n\u001b[1;32m   4876\u001b[0m     \u001b[38;5;28mself\u001b[39m\u001b[38;5;241m.\u001b[39m_init_props()\n",
      "File \u001b[0;32m~/.local/lib/python3.10/site-packages/plotly/basedatatypes.py:5217\u001b[0m, in \u001b[0;36mBasePlotlyType._set_prop\u001b[0;34m(self, prop, val)\u001b[0m\n\u001b[1;32m   5215\u001b[0m         \u001b[38;5;28;01mreturn\u001b[39;00m\n\u001b[1;32m   5216\u001b[0m     \u001b[38;5;28;01melse\u001b[39;00m:\n\u001b[0;32m-> 5217\u001b[0m         \u001b[38;5;28;01mraise\u001b[39;00m err\n\u001b[1;32m   5219\u001b[0m \u001b[38;5;66;03m# val is None\u001b[39;00m\n\u001b[1;32m   5220\u001b[0m \u001b[38;5;66;03m# -----------\u001b[39;00m\n\u001b[1;32m   5221\u001b[0m \u001b[38;5;28;01mif\u001b[39;00m val \u001b[38;5;129;01mis\u001b[39;00m \u001b[38;5;28;01mNone\u001b[39;00m:\n\u001b[1;32m   5222\u001b[0m     \u001b[38;5;66;03m# Check if we should send null update\u001b[39;00m\n",
      "File \u001b[0;32m~/.local/lib/python3.10/site-packages/plotly/basedatatypes.py:5212\u001b[0m, in \u001b[0;36mBasePlotlyType._set_prop\u001b[0;34m(self, prop, val)\u001b[0m\n\u001b[1;32m   5209\u001b[0m validator \u001b[38;5;241m=\u001b[39m \u001b[38;5;28mself\u001b[39m\u001b[38;5;241m.\u001b[39m_get_validator(prop)\n\u001b[1;32m   5211\u001b[0m \u001b[38;5;28;01mtry\u001b[39;00m:\n\u001b[0;32m-> 5212\u001b[0m     val \u001b[38;5;241m=\u001b[39m \u001b[43mvalidator\u001b[49m\u001b[38;5;241;43m.\u001b[39;49m\u001b[43mvalidate_coerce\u001b[49m\u001b[43m(\u001b[49m\u001b[43mval\u001b[49m\u001b[43m)\u001b[49m\n\u001b[1;32m   5213\u001b[0m \u001b[38;5;28;01mexcept\u001b[39;00m \u001b[38;5;167;01mValueError\u001b[39;00m \u001b[38;5;28;01mas\u001b[39;00m err:\n\u001b[1;32m   5214\u001b[0m     \u001b[38;5;28;01mif\u001b[39;00m \u001b[38;5;28mself\u001b[39m\u001b[38;5;241m.\u001b[39m_skip_invalid:\n",
      "File \u001b[0;32m~/.local/lib/python3.10/site-packages/_plotly_utils/basevalidators.py:610\u001b[0m, in \u001b[0;36mEnumeratedValidator.validate_coerce\u001b[0;34m(self, v)\u001b[0m\n\u001b[1;32m    608\u001b[0m     v \u001b[38;5;241m=\u001b[39m \u001b[38;5;28mself\u001b[39m\u001b[38;5;241m.\u001b[39mperform_replacemenet(v)\n\u001b[1;32m    609\u001b[0m     \u001b[38;5;28;01mif\u001b[39;00m \u001b[38;5;129;01mnot\u001b[39;00m \u001b[38;5;28mself\u001b[39m\u001b[38;5;241m.\u001b[39min_values(v):\n\u001b[0;32m--> 610\u001b[0m         \u001b[38;5;28;43mself\u001b[39;49m\u001b[38;5;241;43m.\u001b[39;49m\u001b[43mraise_invalid_val\u001b[49m\u001b[43m(\u001b[49m\u001b[43mv\u001b[49m\u001b[43m)\u001b[49m\n\u001b[1;32m    611\u001b[0m \u001b[38;5;28;01mreturn\u001b[39;00m v\n",
      "File \u001b[0;32m~/.local/lib/python3.10/site-packages/_plotly_utils/basevalidators.py:287\u001b[0m, in \u001b[0;36mBaseValidator.raise_invalid_val\u001b[0;34m(self, v, inds)\u001b[0m\n\u001b[1;32m    284\u001b[0m             \u001b[38;5;28;01mfor\u001b[39;00m i \u001b[38;5;129;01min\u001b[39;00m inds:\n\u001b[1;32m    285\u001b[0m                 name \u001b[38;5;241m+\u001b[39m\u001b[38;5;241m=\u001b[39m \u001b[38;5;124m\"\u001b[39m\u001b[38;5;124m[\u001b[39m\u001b[38;5;124m\"\u001b[39m \u001b[38;5;241m+\u001b[39m \u001b[38;5;28mstr\u001b[39m(i) \u001b[38;5;241m+\u001b[39m \u001b[38;5;124m\"\u001b[39m\u001b[38;5;124m]\u001b[39m\u001b[38;5;124m\"\u001b[39m\n\u001b[0;32m--> 287\u001b[0m         \u001b[38;5;28;01mraise\u001b[39;00m \u001b[38;5;167;01mValueError\u001b[39;00m(\n\u001b[1;32m    288\u001b[0m \u001b[38;5;250m            \u001b[39m\u001b[38;5;124;03m\"\"\"\u001b[39;00m\n\u001b[1;32m    289\u001b[0m \u001b[38;5;124;03m    Invalid value of type {typ} received for the '{name}' property of {pname}\u001b[39;00m\n\u001b[1;32m    290\u001b[0m \u001b[38;5;124;03m        Received value: {v}\u001b[39;00m\n\u001b[1;32m    291\u001b[0m \n\u001b[1;32m    292\u001b[0m \u001b[38;5;124;03m{valid_clr_desc}\"\"\"\u001b[39;00m\u001b[38;5;241m.\u001b[39mformat(\n\u001b[1;32m    293\u001b[0m                 name\u001b[38;5;241m=\u001b[39mname,\n\u001b[1;32m    294\u001b[0m                 pname\u001b[38;5;241m=\u001b[39m\u001b[38;5;28mself\u001b[39m\u001b[38;5;241m.\u001b[39mparent_name,\n\u001b[1;32m    295\u001b[0m                 typ\u001b[38;5;241m=\u001b[39mtype_str(v),\n\u001b[1;32m    296\u001b[0m                 v\u001b[38;5;241m=\u001b[39m\u001b[38;5;28mrepr\u001b[39m(v),\n\u001b[1;32m    297\u001b[0m                 valid_clr_desc\u001b[38;5;241m=\u001b[39m\u001b[38;5;28mself\u001b[39m\u001b[38;5;241m.\u001b[39mdescription(),\n\u001b[1;32m    298\u001b[0m             )\n\u001b[1;32m    299\u001b[0m         )\n",
      "\u001b[0;31mValueError\u001b[0m: \n    Invalid value of type 'IPython.utils.text.SList' received for the 'visible' property of scatter\n        Received value: ['/bin/bash: line 1: False: command not found']\n\n    The 'visible' property is an enumeration that may be specified as:\n      - One of the following enumeration values:\n            [True, False, 'legendonly']"
     ]
    }
   ],
   "source": [
    "app.fluorescence.out_fig.data[0].visible = !(False)"
   ]
  },
  {
   "cell_type": "code",
   "execution_count": 47,
   "id": "15d783ad",
   "metadata": {},
   "outputs": [
    {
     "data": {
      "text/plain": [
       "False"
      ]
     },
     "execution_count": 47,
     "metadata": {},
     "output_type": "execute_result"
    }
   ],
   "source": [
    "False"
   ]
  },
  {
   "cell_type": "markdown",
   "id": "d3480f49",
   "metadata": {},
   "source": [
    "widgets.ToggleButton(\n",
    "                 value=True,\n",
    "                 description='Trace'+str(i),\n",
    "                 disabled=False,\n",
    "                 button_style='info', # 'success', 'info', 'warning', 'danger' or ''\n",
    "                 tooltip='Description',\n",
    "                 icon='check')"
   ]
  },
  {
   "cell_type": "code",
   "execution_count": 65,
   "id": "de07da9d",
   "metadata": {},
   "outputs": [],
   "source": [
    "data = np.array([app.nwb.stimulus[app.stimkeys[0]].data[:]]).T\n",
    "for i in range(1,len(app.stimkeys)):\n",
    "            tempd = np.array([app.nwb.stimulus[app.stimkeys[i]].data[:]]).T\n",
    "            data = np.append(data,tempd,axis=1)"
   ]
  },
  {
   "cell_type": "code",
   "execution_count": 67,
   "id": "2571b92b",
   "metadata": {},
   "outputs": [
    {
     "data": {
      "text/plain": [
       "16"
      ]
     },
     "execution_count": 67,
     "metadata": {},
     "output_type": "execute_result"
    }
   ],
   "source": [
    "data.shape[1]"
   ]
  },
  {
   "cell_type": "code",
   "execution_count": 52,
   "id": "acfaf292",
   "metadata": {},
   "outputs": [
    {
     "data": {
      "text/plain": [
       "52644"
      ]
     },
     "execution_count": 52,
     "metadata": {},
     "output_type": "execute_result"
    }
   ],
   "source": [
    "data.shape"
   ]
  },
  {
   "cell_type": "code",
   "execution_count": 68,
   "id": "593c9823",
   "metadata": {},
   "outputs": [
    {
     "data": {
      "application/vnd.jupyter.widget-view+json": {
       "model_id": "608ab108e71b4f819f3a4285bbc604fa",
       "version_major": 2,
       "version_minor": 0
      },
      "text/plain": [
       "SeparateTracesPlotlyWidget(children=(FigureWidget({\n",
       "    'data': [{'marker': {'color': 'rgb(31, 119, 180)'},\n",
       "  …"
      ]
     },
     "execution_count": 68,
     "metadata": {},
     "output_type": "execute_result"
    }
   ],
   "source": [
    "SeparateTracesPlotlyWidget(\n",
    "            timeseries=app.make_ts1(data),\n",
    "                              foreign_time_window_controller=app.time_window_controller)"
   ]
  },
  {
   "cell_type": "code",
   "execution_count": 71,
   "id": "d5243afc",
   "metadata": {},
   "outputs": [],
   "source": [
    "l1 = [app.make_ts(app.nwb.stimulus[app.stimkeys[in1]]) for in1 in range(len(app.stimkeys))]"
   ]
  },
  {
   "cell_type": "code",
   "execution_count": 72,
   "id": "5fc8d2e2",
   "metadata": {},
   "outputs": [
    {
     "ename": "TypeError",
     "evalue": "MultiTimeSeriesWidget.__init__() missing 1 required positional argument: 'widget_class_list'",
     "output_type": "error",
     "traceback": [
      "\u001b[0;31m---------------------------------------------------------------------------\u001b[0m",
      "\u001b[0;31mTypeError\u001b[0m                                 Traceback (most recent call last)",
      "Cell \u001b[0;32mIn[72], line 1\u001b[0m\n\u001b[0;32m----> 1\u001b[0m \u001b[43mMultiTimeSeriesWidget\u001b[49m\u001b[43m(\u001b[49m\u001b[43ml1\u001b[49m\u001b[43m)\u001b[49m\n",
      "\u001b[0;31mTypeError\u001b[0m: MultiTimeSeriesWidget.__init__() missing 1 required positional argument: 'widget_class_list'"
     ]
    }
   ],
   "source": [
    "MultiTimeSeriesWidget(l1)"
   ]
  },
  {
   "cell_type": "code",
   "execution_count": 42,
   "id": "9cb285a3",
   "metadata": {},
   "outputs": [
    {
     "data": {
      "text/plain": [
       "array([[0., 0., 0., ..., 0., 0., 0.],\n",
       "       [0., 0., 0., ..., 0., 0., 0.],\n",
       "       [0., 0., 0., ..., 0., 0., 0.],\n",
       "       ...,\n",
       "       [0., 0., 0., ..., 0., 0., 0.],\n",
       "       [0., 0., 0., ..., 0., 0., 0.],\n",
       "       [0., 0., 0., ..., 0., 0., 0.]], dtype=float32)"
      ]
     },
     "execution_count": 42,
     "metadata": {},
     "output_type": "execute_result"
    }
   ],
   "source": [
    "data"
   ]
  },
  {
   "cell_type": "code",
   "execution_count": 36,
   "id": "08359464",
   "metadata": {},
   "outputs": [],
   "source": [
    "data = [data,tempd]"
   ]
  },
  {
   "cell_type": "code",
   "execution_count": 33,
   "id": "a9a0dc2f",
   "metadata": {},
   "outputs": [
    {
     "data": {
      "text/plain": [
       "array([0., 0., 0., ..., 0., 0., 0.], dtype=float32)"
      ]
     },
     "execution_count": 33,
     "metadata": {},
     "output_type": "execute_result"
    }
   ],
   "source": [
    "tempd"
   ]
  },
  {
   "cell_type": "code",
   "execution_count": 6,
   "id": "aaa7545e",
   "metadata": {},
   "outputs": [
    {
     "ename": "AttributeError",
     "evalue": "'Dashboard2' object has no attribute 'stimkeys'",
     "output_type": "error",
     "traceback": [
      "\u001b[0;31m---------------------------------------------------------------------------\u001b[0m",
      "\u001b[0;31mAttributeError\u001b[0m                            Traceback (most recent call last)",
      "Cell \u001b[0;32mIn[6], line 1\u001b[0m\n\u001b[0;32m----> 1\u001b[0m \u001b[43mapp\u001b[49m\u001b[38;5;241;43m.\u001b[39;49m\u001b[43mstimkeys\u001b[49m[\u001b[38;5;241m15\u001b[39m]\n",
      "\u001b[0;31mAttributeError\u001b[0m: 'Dashboard2' object has no attribute 'stimkeys'"
     ]
    }
   ],
   "source": [
    "app.stimkeys[15]"
   ]
  },
  {
   "cell_type": "code",
   "execution_count": null,
   "id": "dbf0c1db",
   "metadata": {},
   "outputs": [],
   "source": [
    "def on_button_clicked(b):\n",
    "    if isinstance(change[\"new\"], float):\n",
    "        print(b['new'])"
   ]
  },
  {
   "cell_type": "code",
   "execution_count": null,
   "id": "d62c3547",
   "metadata": {},
   "outputs": [],
   "source": [
    "app.tracelist[0].observe(on_button_clicked)"
   ]
  },
  {
   "cell_type": "code",
   "execution_count": null,
   "id": "49c082c4",
   "metadata": {},
   "outputs": [],
   "source": [
    "app.tracelist[0].__doc__"
   ]
  },
  {
   "cell_type": "code",
   "execution_count": 39,
   "id": "92b2c06f",
   "metadata": {
    "scrolled": false
   },
   "outputs": [
    {
     "name": "stdout",
     "output_type": "stream",
     "text": [
      "['_BasePlotlyType__validators',\n",
      " '__class__',\n",
      " '__contains__',\n",
      " '__delattr__',\n",
      " '__dict__',\n",
      " '__dir__',\n",
      " '__doc__',\n",
      " '__eq__',\n",
      " '__format__',\n",
      " '__ge__',\n",
      " '__getattribute__',\n",
      " '__getitem__',\n",
      " '__gt__',\n",
      " '__hash__',\n",
      " '__init__',\n",
      " '__init_subclass__',\n",
      " '__iter__',\n",
      " '__le__',\n",
      " '__lt__',\n",
      " '__module__',\n",
      " '__ne__',\n",
      " '__new__',\n",
      " '__reduce__',\n",
      " '__reduce_ex__',\n",
      " '__repr__',\n",
      " '__setattr__',\n",
      " '__setitem__',\n",
      " '__sizeof__',\n",
      " '__str__',\n",
      " '__subclasshook__',\n",
      " '__weakref__',\n",
      " '_build_repr_for_class',\n",
      " '_change_callbacks',\n",
      " '_click_callbacks',\n",
      " '_compound_array_props',\n",
      " '_compound_props',\n",
      " '_deselect_callbacks',\n",
      " '_dispatch_change_callbacks',\n",
      " '_dispatch_on_click',\n",
      " '_dispatch_on_deselect',\n",
      " '_dispatch_on_hover',\n",
      " '_dispatch_on_selection',\n",
      " '_dispatch_on_unhover',\n",
      " '_get_child_prop_defaults',\n",
      " '_get_child_props',\n",
      " '_get_prop_validator',\n",
      " '_get_validator',\n",
      " '_hover_callbacks',\n",
      " '_in_batch_mode',\n",
      " '_init_child_props',\n",
      " '_init_props',\n",
      " '_mapped_properties',\n",
      " '_orphan_props',\n",
      " '_parent',\n",
      " '_parent_path_str',\n",
      " '_path_str',\n",
      " '_plotly_name',\n",
      " '_process_kwargs',\n",
      " '_prop_defaults',\n",
      " '_prop_descriptions',\n",
      " '_prop_set_child',\n",
      " '_props',\n",
      " '_raise_on_invalid_property_error',\n",
      " '_relayout_child',\n",
      " '_restyle_child',\n",
      " '_select_callbacks',\n",
      " '_send_prop_set',\n",
      " '_set_array_prop',\n",
      " '_set_compound_prop',\n",
      " '_set_prop',\n",
      " '_skip_invalid',\n",
      " '_trace_ind',\n",
      " '_unhover_callbacks',\n",
      " '_valid_props',\n",
      " '_validate',\n",
      " '_validators',\n",
      " '_vals_equal',\n",
      " 'alignmentgroup',\n",
      " 'cliponaxis',\n",
      " 'connectgaps',\n",
      " 'customdata',\n",
      " 'customdatasrc',\n",
      " 'dx',\n",
      " 'dy',\n",
      " 'error_x',\n",
      " 'error_y',\n",
      " 'figure',\n",
      " 'fill',\n",
      " 'fillcolor',\n",
      " 'fillpattern',\n",
      " 'groupnorm',\n",
      " 'hoverinfo',\n",
      " 'hoverinfosrc',\n",
      " 'hoverlabel',\n",
      " 'hoveron',\n",
      " 'hovertemplate',\n",
      " 'hovertemplatesrc',\n",
      " 'hovertext',\n",
      " 'hovertextsrc',\n",
      " 'ids',\n",
      " 'idssrc',\n",
      " 'legend',\n",
      " 'legendgroup',\n",
      " 'legendgrouptitle',\n",
      " 'legendrank',\n",
      " 'legendwidth',\n",
      " 'line',\n",
      " 'marker',\n",
      " 'meta',\n",
      " 'metasrc',\n",
      " 'mode',\n",
      " 'name',\n",
      " 'offsetgroup',\n",
      " 'on_change',\n",
      " 'on_click',\n",
      " 'on_deselect',\n",
      " 'on_hover',\n",
      " 'on_selection',\n",
      " 'on_unhover',\n",
      " 'opacity',\n",
      " 'orientation',\n",
      " 'parent',\n",
      " 'plotly_name',\n",
      " 'pop',\n",
      " 'selected',\n",
      " 'selectedpoints',\n",
      " 'showlegend',\n",
      " 'stackgaps',\n",
      " 'stackgroup',\n",
      " 'stream',\n",
      " 'text',\n",
      " 'textfont',\n",
      " 'textposition',\n",
      " 'textpositionsrc',\n",
      " 'textsrc',\n",
      " 'texttemplate',\n",
      " 'texttemplatesrc',\n",
      " 'to_plotly_json',\n",
      " 'type',\n",
      " 'uid',\n",
      " 'uirevision',\n",
      " 'unselected',\n",
      " 'update',\n",
      " 'visible',\n",
      " 'x',\n",
      " 'x0',\n",
      " 'xaxis',\n",
      " 'xcalendar',\n",
      " 'xhoverformat',\n",
      " 'xperiod',\n",
      " 'xperiod0',\n",
      " 'xperiodalignment',\n",
      " 'xsrc',\n",
      " 'y',\n",
      " 'y0',\n",
      " 'yaxis',\n",
      " 'ycalendar',\n",
      " 'yhoverformat',\n",
      " 'yperiod',\n",
      " 'yperiod0',\n",
      " 'yperiodalignment',\n",
      " 'ysrc']\n"
     ]
    }
   ],
   "source": [
    "from pprint import pprint\n",
    "pprint(dir(app.fluorescence.out_fig.data[0]))"
   ]
  },
  {
   "cell_type": "code",
   "execution_count": null,
   "id": "d0fc27be",
   "metadata": {},
   "outputs": [],
   "source": [
    "widgetlist\n",
    "valuelist\n",
    "\n",
    "\n",
    "def observe1(change):\n",
    "    self.updatevals() # valuelist updated\n",
    "    self.compute()"
   ]
  },
  {
   "cell_type": "code",
   "execution_count": null,
   "id": "95df7847",
   "metadata": {},
   "outputs": [],
   "source": [
    "def self.compute():"
   ]
  },
  {
   "cell_type": "code",
   "execution_count": null,
   "id": "f4dad427",
   "metadata": {},
   "outputs": [],
   "source": [
    "a = [True,True]\n",
    "\n",
    "a == [True for i in range(len(a))] #cond"
   ]
  },
  {
   "cell_type": "code",
   "execution_count": null,
   "id": "4126f3f9",
   "metadata": {},
   "outputs": [],
   "source": [
    "if cond1 | cond2\n",
    "    addallt\n",
    "else:\n",
    "    addt where t"
   ]
  },
  {
   "cell_type": "code",
   "execution_count": null,
   "id": "e1a479b3",
   "metadata": {},
   "outputs": [],
   "source": [
    "app.nwb.acquisition"
   ]
  },
  {
   "cell_type": "code",
   "execution_count": null,
   "id": "25ea21b3",
   "metadata": {},
   "outputs": [],
   "source": [
    "def createAllTData(self):"
   ]
  },
  {
   "cell_type": "code",
   "execution_count": null,
   "id": "e83edc00",
   "metadata": {},
   "outputs": [],
   "source": [
    "SingleTracePlotlyWidget(\n",
    "            timeseries=self.make_ts(self.nwb.stimulus[self.stimkeys[in1]]),\n",
    "                              foreign_time_window_controller=self.time_window_controller)\n",
    "        for i in range(1,len(self.stimkeys)):\n",
    "            self.fluorescence.out_fig.add_trace(self.nwb.stimulus[self.stimkeys[i]].data[:])"
   ]
  },
  {
   "cell_type": "code",
   "execution_count": null,
   "id": "8bc5bf09",
   "metadata": {},
   "outputs": [],
   "source": []
  }
 ],
 "metadata": {
  "kernelspec": {
   "display_name": "Python 3 (ipykernel)",
   "language": "python",
   "name": "python3"
  },
  "language_info": {
   "codemirror_mode": {
    "name": "ipython",
    "version": 3
   },
   "file_extension": ".py",
   "mimetype": "text/x-python",
   "name": "python",
   "nbconvert_exporter": "python",
   "pygments_lexer": "ipython3",
   "version": "3.10.6"
  }
 },
 "nbformat": 4,
 "nbformat_minor": 5
}
