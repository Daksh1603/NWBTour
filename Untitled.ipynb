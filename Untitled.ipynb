{
 "cells": [
  {
   "cell_type": "code",
   "execution_count": 1,
   "id": "81822355",
   "metadata": {},
   "outputs": [
    {
     "name": "stdout",
     "output_type": "stream",
     "text": [
      "Using pynwb v2.3.2\n"
     ]
    }
   ],
   "source": [
    "# import modules\n",
    "from datetime import datetime, tzinfo, timedelta\n",
    "#import hdmf._version\n",
    "from dateutil.tz import tzlocal\n",
    "import platform\n",
    "import math\n",
    "import numpy as np\n",
    "import uuid\n",
    "import os\n",
    "from os import environ\n",
    "import scipy.io as sio\n",
    "from hdmf.backends.hdf5.h5_utils import H5DataIO\n",
    "import pandas as pd\n",
    "\n",
    "from pynwb import NWBHDF5IO\n",
    "\n",
    "#https://pypi.org/project/pyabf/\n",
    "import pyabf\n",
    "\n",
    "import pynwb\n",
    "print('Using pynwb v%s'%pynwb.__version__)"
   ]
  },
  {
   "cell_type": "code",
   "execution_count": 14,
   "id": "107f40dd",
   "metadata": {},
   "outputs": [],
   "source": [
    "from nwbwidgets.timeseries import SeparateTracesPlotlyWidget"
   ]
  },
  {
   "cell_type": "code",
   "execution_count": 69,
   "id": "843fd332",
   "metadata": {},
   "outputs": [],
   "source": [
    "from nwbwidgets.timeseries import MultiTimeSeriesWidget"
   ]
  },
  {
   "cell_type": "code",
   "execution_count": 2,
   "id": "747a8213",
   "metadata": {},
   "outputs": [],
   "source": [
    "import concurrent.futures\n",
    "from pathlib import Path\n",
    "\n",
    "import fsspec\n",
    "import h5py\n",
    "import ipywidgets as widgets\n",
    "from dandi.dandiapi import DandiAPIClient\n",
    "from fsspec.implementations.cached import CachingFileSystem\n",
    "from pynwb import NWBHDF5IO\n",
    "from tqdm.notebook import tqdm\n",
    "\n",
    "from nwbwidgets.utils.dandi import (\n",
    "    get_dandiset_metadata,\n",
    "    get_file_url,\n",
    "    has_nwb,\n",
    "    list_dandiset_files,\n",
    ")"
   ]
  },
  {
   "cell_type": "code",
   "execution_count": 3,
   "id": "1ae8804c",
   "metadata": {},
   "outputs": [],
   "source": [
    "from IPython.display import display\n",
    "\n",
    "import numpy as np\n",
    "import plotly.graph_objects as go\n",
    "from ipywidgets import Layout, widgets\n",
    "from tifffile import imread\n",
    "\n",
    "from nwbwidgets.controllers import StartAndDurationController\n",
    "from nwbwidgets.image import ImageSeriesWidget\n",
    "from nwbwidgets.timeseries import SingleTracePlotlyWidget\n",
    "from nwbwidgets.utils.timeseries import get_timeseries_maxt, get_timeseries_mint\n",
    "\n",
    "from nwbwidgets.panel import Panel"
   ]
  },
  {
   "cell_type": "code",
   "execution_count": 79,
   "id": "610e8e05",
   "metadata": {},
   "outputs": [],
   "source": [
    "class Dashboard2(Panel):\n",
    "    def __init__(self,stream_mode: str = \"fsspec\",\n",
    "        enable_dandi_source: bool = True,\n",
    "        enable_s3_source: bool = True,\n",
    "        enable_local_source: bool = True,\n",
    "        **kwargs\n",
    "    ):\n",
    "        \n",
    "        super().__init__(self,stream_mode,\n",
    "        enable_dandi_source,\n",
    "        enable_s3_source,\n",
    "        enable_local_source,\n",
    "        **kwargs)\n",
    "    \n",
    "    def stream_dandiset_file(self, args=None):\n",
    "        \"\"\"Stream NWB file from DANDI\"\"\"\n",
    "        print(\"enterstream\")\n",
    "        self.widgets_panel.children = [widgets.Label(\"loading...\")]\n",
    "        dandiset_id = self.source_dandi_id.value.split(\"-\")[0].strip()\n",
    "        file_path = self.source_dandi_file_dropdown.value\n",
    "        s3_url = get_file_url(dandiset_id=dandiset_id, file_path=file_path)\n",
    "        self._stream_s3_file(s3_url)\n",
    "\n",
    "    def _stream_s3_file(self, s3_url):\n",
    "        print(\"enters3file\")\n",
    "        if self.stream_mode == \"ros3\":\n",
    "            print(\"enteros3\")\n",
    "            io = NWBHDF5IO(s3_url, mode=\"r\", load_namespaces=True, driver=\"ros3\")\n",
    "\n",
    "        else :\n",
    "            print(\"enterfsspec\")\n",
    "            fs = fsspec.filesystem(\"http\")\n",
    "            f = fs.open(s3_url, \"rb\")\n",
    "            file = h5py.File(f)\n",
    "            io = NWBHDF5IO(file=file, load_namespaces=True)\n",
    "\n",
    "        self.nwb = io.read()\n",
    "        self.process() \n",
    "        \n",
    "    \n",
    "    def load_local_dir_file(self, args=None):\n",
    "        \"\"\"Load local NWB file\"\"\"\n",
    "        full_file_path = str(Path(self.local_dir_path.value) / self.local_dir_files.value)\n",
    "        io = NWBHDF5IO(full_file_path, mode=\"r\", load_namespaces=True)\n",
    "        self.nwb = io.read()\n",
    "        self.process()\n",
    "        \n",
    "    \n",
    "    def load_local_file(self, args=None):\n",
    "        \"\"\"Load local NWB file\"\"\"\n",
    "        full_file_path = str(Path(self.local_file_path.value))\n",
    "        io = NWBHDF5IO(full_file_path, mode=\"r\", load_namespaces=True)\n",
    "        self.nwb = io.read()\n",
    "        self.process()\n",
    "        \n",
    "    def process(self):\n",
    "        \n",
    "        self.acqkeys = list(self.nwb.acquisition.keys())\n",
    "        self.stimkeys = list(self.nwb.stimulus.keys())\n",
    "        \n",
    "        in1 = 0\n",
    "        \n",
    "        #Start time and duration controller\n",
    "        self.tmin = get_timeseries_mint(\n",
    "            self.make_ts(self.nwb.acquisition[self.acqkeys[in1]])\n",
    "        )\n",
    "        self.tmax = get_timeseries_maxt(\n",
    "            self.make_ts(self.nwb.acquisition[self.acqkeys[in1]])\n",
    "        )\n",
    "        self.time_window_controller = StartAndDurationController(\n",
    "            tmin=self.tmin,\n",
    "            tmax=self.tmax,\n",
    "            start=0\n",
    "        )\n",
    "        \n",
    "                # Electrophys single trace \n",
    "        self.electrical = SingleTracePlotlyWidget(\n",
    "            timeseries=self.make_ts(self.nwb.acquisition[self.acqkeys[in1]]),\n",
    "                              foreign_time_window_controller=self.time_window_controller)\n",
    "        for i in range(1,len(self.acqkeys)):\n",
    "            self.electrical.out_fig.add_trace(go.Scatter(x=self.electrical.out_fig.data[0].x,y=self.nwb.acquisition[self.acqkeys[i]].data[:]))\n",
    "        \n",
    "        \n",
    "        self.electrical.out_fig.update_layout(\n",
    "            title=None,\n",
    "            showlegend=False,\n",
    "            xaxis_title=None,\n",
    "            yaxis_title=\"mVolts\",\n",
    "            width=840,\n",
    "            height=230,\n",
    "            margin=dict(l=60, r=200, t=8, b=20),\n",
    "            # yaxis={\"position\": 0, \"anchor\": \"free\"},\n",
    "            yaxis={\n",
    "                \"range\": [\n",
    "                     min(self.electrical.out_fig.data[0].y),\n",
    "                     max(self.electrical.out_fig.data[-1].y),\n",
    "                ],\n",
    "                \"autorange\": False,\n",
    "            },\n",
    "            xaxis={\n",
    "                \"showticklabels\": False,\n",
    "                \"ticks\": \"\",\n",
    "                \"range\": [\n",
    "                    min(self.electrical.out_fig.data[0].x),\n",
    "                    max(self.electrical.out_fig.data[0].x),\n",
    "                ],\n",
    "                \"autorange\": False,\n",
    "            },\n",
    "        )\n",
    "        \n",
    "        \n",
    "        \n",
    "        # Fluorescence single trace\n",
    "        self.fluorescence = SingleTracePlotlyWidget(\n",
    "            timeseries=self.make_ts(self.nwb.stimulus[self.stimkeys[in1]]),\n",
    "                              foreign_time_window_controller=self.time_window_controller)\n",
    "        for i in range(1,len(self.stimkeys)):\n",
    "            self.fluorescence.out_fig.add_trace(go.Scatter(x=self.fluorescence.out_fig.data[0].x,y=self.nwb.stimulus[self.stimkeys[i]].data[:]))\n",
    "            \n",
    "        \n",
    "        self.fluorescence.out_fig.update_layout(\n",
    "            title=None,\n",
    "            showlegend=False,\n",
    "            width=840,\n",
    "            height=230,\n",
    "            margin=dict(l=60, r=200, t=8, b=20),\n",
    "            yaxis_title=\"mA\",\n",
    "            yaxis={\n",
    "                \"range\": [\n",
    "                    min(self.fluorescence.out_fig.data[0].y),\n",
    "                    max(self.fluorescence.out_fig.data[-1].y),\n",
    "                ],\n",
    "                \"autorange\": False,\n",
    "            },\n",
    "            xaxis={\n",
    "                \"range\": [\n",
    "                    min(self.fluorescence.out_fig.data[0].x),\n",
    "                    max(self.fluorescence.out_fig.data[0].x),\n",
    "                ],\n",
    "                \"autorange\": False,\n",
    "                \"constrain\": \"domain\",\n",
    "                \"anchor\": \"free\",\n",
    "            },\n",
    "        )\n",
    "        \n",
    "        self.trace_widgets = self.makeTraceWid()\n",
    "        \n",
    "        for i in range(len(self.tracelist)):\n",
    "            self.tracelist[i].observe(self.obs)\n",
    "                \n",
    "        hbox_header = widgets.HBox([self.time_window_controller])\n",
    "        vbox_widgets = widgets.VBox([self.electrical, self.fluorescence])\n",
    "        hbox_widgets = widgets.HBox([vbox_widgets])\n",
    "        hbox_widgets2 = widgets.HBox([self.trace_widgets])\n",
    "        \n",
    "        self.widgets_panel.children = [hbox_header, hbox_widgets, hbox_widgets2]\n",
    "        \n",
    " \n",
    "    def process_dandiset(self, dandiset):\n",
    "        try:\n",
    "            metadata = dandiset.get_metadata()\n",
    "            if has_nwb(metadata):\n",
    "                return metadata\n",
    "        except:\n",
    "            pass\n",
    "        return None       \n",
    "\n",
    "\n",
    "    def toggle_cache(self, args):\n",
    "        if isinstance(args[\"new\"], dict):\n",
    "            if args[\"new\"].get(\"value\") is True:\n",
    "                self.cache_path_text.layout.visibility = \"visible\"\n",
    "            elif args[\"new\"].get(\"value\") is False:\n",
    "                self.cache_path_text.layout.visibility = \"hidden\"\n",
    "     \n",
    "    def make_ts(self,nwb_obj,name=\"Trace\"):\n",
    "        return pynwb.base.TimeSeries(name=name,data=nwb_obj.data[:],starting_time=0.,rate=nwb_obj.rate,unit=nwb_obj.starting_time_unit)\n",
    "    \n",
    "    def make_ts1(self,data,name=\"Trace\"):\n",
    "        return pynwb.base.TimeSeries(name=name,data=data,starting_time=0.,rate=16666.66,unit='seconds')\n",
    "    \n",
    "    def make_ts1stim(self,nwbobj):\n",
    "        data = np.array([app.nwb.stimulus[app.stimkeys[0]].data[:]])\n",
    "        for i in range(1,len(app.stimkeys)):\n",
    "            tempd = [app.nwb.stimulus[app.stimkeys[i]].data[:]]\n",
    "            data = np.append(data,tempd,axis=0)\n",
    "        return(self.make_ts1(data))\n",
    "    \n",
    "    def make_ts1acq(self,nwbobj):\n",
    "        data = np.array([app.nwb.acquisition[app.acqkeys[0]].data[:]])\n",
    "        for i in range(1,len(app.acqkeys)):\n",
    "            tempd = [app.nwb.acquisition[app.acqkeys[i]].data[:]]\n",
    "            data = np.append(data,tempd,axis=0)\n",
    "        return(self.make_ts1(data))\n",
    "    \n",
    "    def updateVals(self):\n",
    "        self.tvaluelist = [self.tracelist[i].value for i in range(len(self.tracelist))]\n",
    "    \n",
    "    def makeTraceWid(self):\n",
    "        self.tracelist = []\n",
    "        for i in range(len(self.stimkeys)):\n",
    "              self.tracelist.append(widgets.ToggleButton(\n",
    "                 value=True,\n",
    "                 description='Trace'+str(i),\n",
    "                 disabled=False,\n",
    "                 button_style='info', # 'success', 'info', 'warning', 'danger' or ''\n",
    "                 tooltip='Description',\n",
    "                 icon='check'))\n",
    "        \n",
    "        return(widgets.GridBox(self.tracelist, layout=widgets.Layout(grid_template_columns=\"repeat(4, 150px)\")))\n",
    "    \n",
    "    def obs(self,change):\n",
    "        if isinstance(change[\"new\"], bool):\n",
    "            self.updateVals()\n",
    "            print(self.tvaluelist)\n",
    "        \n",
    "        \n",
    "        \n",
    "        \n",
    "        \n",
    "        \n",
    "    "
   ]
  },
  {
   "cell_type": "code",
   "execution_count": 80,
   "id": "9c222e7a",
   "metadata": {
    "scrolled": false
   },
   "outputs": [
    {
     "data": {
      "application/vnd.jupyter.widget-view+json": {
       "model_id": "3a57f31444b742d296a2121b01206701",
       "version_major": 2,
       "version_minor": 0
      },
      "text/plain": [
       "Dashboard2(children=(HBox(children=(VBox(children=(RadioButtons(layout=Layout(width='100px'), options=('Local …"
      ]
     },
     "execution_count": 80,
     "metadata": {},
     "output_type": "execute_result"
    },
    {
     "data": {
      "application/vnd.jupyter.widget-view+json": {
       "model_id": "9b96fca33bd849c1aa3ec11cba65a347",
       "version_major": 2,
       "version_minor": 0
      },
      "text/plain": [
       "Loading dandiset metadata:   0%|          | 0/286 [00:00<?, ?it/s]"
      ]
     },
     "metadata": {},
     "output_type": "display_data"
    }
   ],
   "source": [
    "app = Dashboard2(\"fsspec\")\n",
    "app"
   ]
  },
  {
   "cell_type": "code",
   "execution_count": 65,
   "id": "de07da9d",
   "metadata": {},
   "outputs": [],
   "source": [
    "data = np.array([app.nwb.stimulus[app.stimkeys[0]].data[:]]).T\n",
    "for i in range(1,len(app.stimkeys)):\n",
    "            tempd = np.array([app.nwb.stimulus[app.stimkeys[i]].data[:]]).T\n",
    "            data = np.append(data,tempd,axis=1)"
   ]
  },
  {
   "cell_type": "code",
   "execution_count": 67,
   "id": "2571b92b",
   "metadata": {},
   "outputs": [
    {
     "data": {
      "text/plain": [
       "16"
      ]
     },
     "execution_count": 67,
     "metadata": {},
     "output_type": "execute_result"
    }
   ],
   "source": [
    "data.shape[1]"
   ]
  },
  {
   "cell_type": "code",
   "execution_count": 52,
   "id": "acfaf292",
   "metadata": {},
   "outputs": [
    {
     "data": {
      "text/plain": [
       "52644"
      ]
     },
     "execution_count": 52,
     "metadata": {},
     "output_type": "execute_result"
    }
   ],
   "source": [
    "data.shape"
   ]
  },
  {
   "cell_type": "code",
   "execution_count": 68,
   "id": "593c9823",
   "metadata": {},
   "outputs": [
    {
     "data": {
      "application/vnd.jupyter.widget-view+json": {
       "model_id": "608ab108e71b4f819f3a4285bbc604fa",
       "version_major": 2,
       "version_minor": 0
      },
      "text/plain": [
       "SeparateTracesPlotlyWidget(children=(FigureWidget({\n",
       "    'data': [{'marker': {'color': 'rgb(31, 119, 180)'},\n",
       "  …"
      ]
     },
     "execution_count": 68,
     "metadata": {},
     "output_type": "execute_result"
    }
   ],
   "source": [
    "SeparateTracesPlotlyWidget(\n",
    "            timeseries=app.make_ts1(data),\n",
    "                              foreign_time_window_controller=app.time_window_controller)"
   ]
  },
  {
   "cell_type": "code",
   "execution_count": 71,
   "id": "d5243afc",
   "metadata": {},
   "outputs": [],
   "source": [
    "l1 = [app.make_ts(app.nwb.stimulus[app.stimkeys[in1]]) for in1 in range(len(app.stimkeys))]"
   ]
  },
  {
   "cell_type": "code",
   "execution_count": 72,
   "id": "5fc8d2e2",
   "metadata": {},
   "outputs": [
    {
     "ename": "TypeError",
     "evalue": "MultiTimeSeriesWidget.__init__() missing 1 required positional argument: 'widget_class_list'",
     "output_type": "error",
     "traceback": [
      "\u001b[0;31m---------------------------------------------------------------------------\u001b[0m",
      "\u001b[0;31mTypeError\u001b[0m                                 Traceback (most recent call last)",
      "Cell \u001b[0;32mIn[72], line 1\u001b[0m\n\u001b[0;32m----> 1\u001b[0m \u001b[43mMultiTimeSeriesWidget\u001b[49m\u001b[43m(\u001b[49m\u001b[43ml1\u001b[49m\u001b[43m)\u001b[49m\n",
      "\u001b[0;31mTypeError\u001b[0m: MultiTimeSeriesWidget.__init__() missing 1 required positional argument: 'widget_class_list'"
     ]
    }
   ],
   "source": [
    "MultiTimeSeriesWidget(l1)"
   ]
  },
  {
   "cell_type": "code",
   "execution_count": 42,
   "id": "9cb285a3",
   "metadata": {},
   "outputs": [
    {
     "data": {
      "text/plain": [
       "array([[0., 0., 0., ..., 0., 0., 0.],\n",
       "       [0., 0., 0., ..., 0., 0., 0.],\n",
       "       [0., 0., 0., ..., 0., 0., 0.],\n",
       "       ...,\n",
       "       [0., 0., 0., ..., 0., 0., 0.],\n",
       "       [0., 0., 0., ..., 0., 0., 0.],\n",
       "       [0., 0., 0., ..., 0., 0., 0.]], dtype=float32)"
      ]
     },
     "execution_count": 42,
     "metadata": {},
     "output_type": "execute_result"
    }
   ],
   "source": [
    "data"
   ]
  },
  {
   "cell_type": "code",
   "execution_count": 36,
   "id": "08359464",
   "metadata": {},
   "outputs": [],
   "source": [
    "data = [data,tempd]"
   ]
  },
  {
   "cell_type": "code",
   "execution_count": 33,
   "id": "a9a0dc2f",
   "metadata": {},
   "outputs": [
    {
     "data": {
      "text/plain": [
       "array([0., 0., 0., ..., 0., 0., 0.], dtype=float32)"
      ]
     },
     "execution_count": 33,
     "metadata": {},
     "output_type": "execute_result"
    }
   ],
   "source": [
    "tempd"
   ]
  },
  {
   "cell_type": "code",
   "execution_count": 6,
   "id": "aaa7545e",
   "metadata": {},
   "outputs": [
    {
     "ename": "AttributeError",
     "evalue": "'Dashboard2' object has no attribute 'stimkeys'",
     "output_type": "error",
     "traceback": [
      "\u001b[0;31m---------------------------------------------------------------------------\u001b[0m",
      "\u001b[0;31mAttributeError\u001b[0m                            Traceback (most recent call last)",
      "Cell \u001b[0;32mIn[6], line 1\u001b[0m\n\u001b[0;32m----> 1\u001b[0m \u001b[43mapp\u001b[49m\u001b[38;5;241;43m.\u001b[39;49m\u001b[43mstimkeys\u001b[49m[\u001b[38;5;241m15\u001b[39m]\n",
      "\u001b[0;31mAttributeError\u001b[0m: 'Dashboard2' object has no attribute 'stimkeys'"
     ]
    }
   ],
   "source": [
    "app.stimkeys[15]"
   ]
  },
  {
   "cell_type": "code",
   "execution_count": null,
   "id": "dbf0c1db",
   "metadata": {},
   "outputs": [],
   "source": [
    "def on_button_clicked(b):\n",
    "    if isinstance(change[\"new\"], float):\n",
    "        print(b['new'])"
   ]
  },
  {
   "cell_type": "code",
   "execution_count": null,
   "id": "d62c3547",
   "metadata": {},
   "outputs": [],
   "source": [
    "app.tracelist[0].observe(on_button_clicked)"
   ]
  },
  {
   "cell_type": "code",
   "execution_count": null,
   "id": "49c082c4",
   "metadata": {},
   "outputs": [],
   "source": [
    "app.tracelist[0].__doc__"
   ]
  },
  {
   "cell_type": "code",
   "execution_count": null,
   "id": "92b2c06f",
   "metadata": {
    "scrolled": false
   },
   "outputs": [],
   "source": [
    "from pprint import pprint\n",
    "pprint(dir(app.electrical.out_fig.data))"
   ]
  },
  {
   "cell_type": "code",
   "execution_count": null,
   "id": "d0fc27be",
   "metadata": {},
   "outputs": [],
   "source": [
    "widgetlist\n",
    "valuelist\n",
    "\n",
    "\n",
    "def observe1(change):\n",
    "    self.updatevals() # valuelist updated\n",
    "    self.compute()"
   ]
  },
  {
   "cell_type": "code",
   "execution_count": null,
   "id": "95df7847",
   "metadata": {},
   "outputs": [],
   "source": [
    "def self.compute():"
   ]
  },
  {
   "cell_type": "code",
   "execution_count": null,
   "id": "f4dad427",
   "metadata": {},
   "outputs": [],
   "source": [
    "a = [True,True]\n",
    "\n",
    "a == [True for i in range(len(a))] #cond"
   ]
  },
  {
   "cell_type": "code",
   "execution_count": null,
   "id": "4126f3f9",
   "metadata": {},
   "outputs": [],
   "source": [
    "if cond1 | cond2\n",
    "    addallt\n",
    "else:\n",
    "    addt where t"
   ]
  },
  {
   "cell_type": "code",
   "execution_count": null,
   "id": "e1a479b3",
   "metadata": {},
   "outputs": [],
   "source": [
    "app.nwb.acquisition"
   ]
  },
  {
   "cell_type": "code",
   "execution_count": null,
   "id": "25ea21b3",
   "metadata": {},
   "outputs": [],
   "source": [
    "def createAllTData(self):"
   ]
  },
  {
   "cell_type": "code",
   "execution_count": null,
   "id": "e83edc00",
   "metadata": {},
   "outputs": [],
   "source": [
    "SingleTracePlotlyWidget(\n",
    "            timeseries=self.make_ts(self.nwb.stimulus[self.stimkeys[in1]]),\n",
    "                              foreign_time_window_controller=self.time_window_controller)\n",
    "        for i in range(1,len(self.stimkeys)):\n",
    "            self.fluorescence.out_fig.add_trace(self.nwb.stimulus[self.stimkeys[i]].data[:])"
   ]
  },
  {
   "cell_type": "code",
   "execution_count": null,
   "id": "8bc5bf09",
   "metadata": {},
   "outputs": [],
   "source": []
  }
 ],
 "metadata": {
  "kernelspec": {
   "display_name": "Python 3 (ipykernel)",
   "language": "python",
   "name": "python3"
  },
  "language_info": {
   "codemirror_mode": {
    "name": "ipython",
    "version": 3
   },
   "file_extension": ".py",
   "mimetype": "text/x-python",
   "name": "python",
   "nbconvert_exporter": "python",
   "pygments_lexer": "ipython3",
   "version": "3.10.6"
  }
 },
 "nbformat": 4,
 "nbformat_minor": 5
}
