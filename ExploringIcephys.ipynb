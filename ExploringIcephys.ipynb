{
 "cells": [
  {
   "cell_type": "code",
   "execution_count": 1,
   "id": "81822355",
   "metadata": {},
   "outputs": [
    {
     "name": "stdout",
     "output_type": "stream",
     "text": [
      "Using pynwb v2.3.2\n"
     ]
    }
   ],
   "source": [
    "# import modules\n",
    "from datetime import datetime, tzinfo, timedelta\n",
    "#import hdmf._version\n",
    "from dateutil.tz import tzlocal\n",
    "import platform\n",
    "import math\n",
    "import numpy as np\n",
    "import uuid\n",
    "import os\n",
    "from os import environ\n",
    "import scipy.io as sio\n",
    "#from hdmf.backends.hdf5.h5_utils import H5DataIO\n",
    "import pandas as pd\n",
    "\n",
    "from pynwb import NWBHDF5IO\n",
    "\n",
    "#https://pypi.org/project/pyabf/\n",
    "import pyabf\n",
    "\n",
    "import pynwb\n",
    "print('Using pynwb v%s'%pynwb.__version__)"
   ]
  },
  {
   "cell_type": "code",
   "execution_count": 72,
   "id": "107f40dd",
   "metadata": {},
   "outputs": [],
   "source": [
    "from nwbwidgets.timeseries import SeparateTracesPlotlyWidget,AlignMultiTraceTimeSeriesByTrialsVariable"
   ]
  },
  {
   "cell_type": "code",
   "execution_count": 73,
   "id": "843fd332",
   "metadata": {},
   "outputs": [],
   "source": [
    "from nwbwidgets.timeseries import MultiTimeSeriesWidget,AlignMultiTraceTimeSeriesByTrialsAbstract"
   ]
  },
  {
   "cell_type": "code",
   "execution_count": 4,
   "id": "747a8213",
   "metadata": {},
   "outputs": [],
   "source": [
    "import concurrent.futures\n",
    "from pathlib import Path\n",
    "\n",
    "import fsspec\n",
    "import h5py\n",
    "import ipywidgets as widgets\n",
    "from dandi.dandiapi import DandiAPIClient\n",
    "from fsspec.implementations.cached import CachingFileSystem\n",
    "from pynwb import NWBHDF5IO\n",
    "from tqdm.notebook import tqdm\n",
    "\n",
    "from nwbwidgets.utils.dandi import (\n",
    "    get_dandiset_metadata,\n",
    "    get_file_url,\n",
    "    has_nwb,\n",
    "    list_dandiset_files,\n",
    ")"
   ]
  },
  {
   "cell_type": "code",
   "execution_count": 5,
   "id": "1ae8804c",
   "metadata": {},
   "outputs": [],
   "source": [
    "from IPython.display import display\n",
    "\n",
    "import numpy as np\n",
    "import plotly.graph_objects as go\n",
    "from ipywidgets import Layout, widgets\n",
    "from tifffile import imread\n",
    "\n",
    "from nwbwidgets.controllers import StartAndDurationController\n",
    "from nwbwidgets.image import ImageSeriesWidget\n",
    "from nwbwidgets.timeseries import SingleTracePlotlyWidget\n",
    "from nwbwidgets.utils.timeseries import get_timeseries_maxt, get_timeseries_mint\n",
    "\n",
    "from nwbwidgets.panel import Panel"
   ]
  },
  {
   "cell_type": "code",
   "execution_count": 6,
   "id": "610e8e05",
   "metadata": {},
   "outputs": [],
   "source": [
    "class Dashboard2(Panel):\n",
    "    def __init__(self,stream_mode: str = \"fsspec\",\n",
    "        enable_dandi_source: bool = True,\n",
    "        enable_s3_source: bool = True,\n",
    "        enable_local_source: bool = True,\n",
    "        **kwargs\n",
    "    ):\n",
    "        \n",
    "        super().__init__(self,stream_mode,\n",
    "        enable_dandi_source,\n",
    "        enable_s3_source,\n",
    "        enable_local_source,\n",
    "        **kwargs)\n",
    "    \n",
    "    def stream_dandiset_file(self, args=None):\n",
    "        \"\"\"Stream NWB file from DANDI\"\"\"\n",
    "        print(\"enterstream\")\n",
    "        self.widgets_panel.children = [widgets.Label(\"loading...\")]\n",
    "        dandiset_id = self.source_dandi_id.value.split(\"-\")[0].strip()\n",
    "        file_path = self.source_dandi_file_dropdown.value\n",
    "        s3_url = get_file_url(dandiset_id=dandiset_id, file_path=file_path)\n",
    "        self._stream_s3_file(s3_url)\n",
    "\n",
    "    def _stream_s3_file(self, s3_url):\n",
    "        print(\"enters3file\")\n",
    "        if self.stream_mode == \"ros3\":\n",
    "            print(\"enteros3\")\n",
    "            io = NWBHDF5IO(s3_url, mode=\"r\", load_namespaces=True, driver=\"ros3\")\n",
    "\n",
    "        else :\n",
    "            print(\"enterfsspec\")\n",
    "            fs = fsspec.filesystem(\"http\")\n",
    "            f = fs.open(s3_url, \"rb\")\n",
    "            file = h5py.File(f)\n",
    "            io = NWBHDF5IO(file=file, load_namespaces=True)\n",
    "\n",
    "        self.nwb = io.read()\n",
    "        self.process() \n",
    "        \n",
    "    \n",
    "    def load_local_dir_file(self, args=None):\n",
    "        \"\"\"Load local NWB file\"\"\"\n",
    "        full_file_path = str(Path(self.local_dir_path.value) / self.local_dir_files.value)\n",
    "        io = NWBHDF5IO(full_file_path, mode=\"r\", load_namespaces=True)\n",
    "        self.nwb = io.read()\n",
    "        self.process()\n",
    "        \n",
    "    \n",
    "    def load_local_file(self, args=None):\n",
    "        \"\"\"Load local NWB file\"\"\"\n",
    "        full_file_path = str(Path(self.local_file_path.value))\n",
    "        io = NWBHDF5IO(full_file_path, mode=\"r\", load_namespaces=True)\n",
    "        self.nwb = io.read()\n",
    "        self.process()\n",
    "        \n",
    "    def process(self):\n",
    "        \n",
    "        self.acqkeys = list(self.nwb.acquisition.keys())\n",
    "        self.stimkeys = list(self.nwb.stimulus.keys())\n",
    "        \n",
    "        in1 = 0\n",
    "        \n",
    "        #Start time and duration controller\n",
    "        self.tmin = get_timeseries_mint(\n",
    "            self.make_ts(self.nwb.acquisition[self.acqkeys[in1]])\n",
    "        )\n",
    "        self.tmax = get_timeseries_maxt(\n",
    "            self.make_ts(self.nwb.acquisition[self.acqkeys[in1]])\n",
    "        )\n",
    "        self.time_window_controller = StartAndDurationController(\n",
    "            tmin=self.tmin,\n",
    "            tmax=self.tmax,\n",
    "            start=0\n",
    "        )\n",
    "        \n",
    "        self.colorList = ['#1f77b4', '#ff7f0e', '#2ca02c', '#d62728', '#9467bd', '#8c564b', '#e377c2', '#7f7f7f', '#bcbd22', '#17becf']\n",
    "        \n",
    "                # Electrophys single trace \n",
    "        self.electrical = SingleTracePlotlyWidget(\n",
    "            timeseries=self.make_ts(self.nwb.acquisition[self.acqkeys[in1]]),\n",
    "                              foreign_time_window_controller=self.time_window_controller)\n",
    "        self.ebase = self.electrical.out_fig.data[0].x\n",
    "        \n",
    "        for i in range(1,len(self.acqkeys)):\n",
    "            self.electrical.out_fig.add_trace(go.Scatter(x=self.ebase,y=self.nwb.acquisition[self.acqkeys[i]].data[:],line=dict(color=self.colorList[i%10])))\n",
    "        \n",
    "        \n",
    "        self.electrical.out_fig.update_layout(\n",
    "            title=None,\n",
    "            showlegend=False,\n",
    "            xaxis_title=None,\n",
    "            yaxis_title=\"mVolts\",\n",
    "            width=840,\n",
    "            height=230,\n",
    "            margin=dict(l=60, r=200, t=8, b=20),\n",
    "            # yaxis={\"position\": 0, \"anchor\": \"free\"},\n",
    "            yaxis={\n",
    "                \"range\": [\n",
    "                     min(self.electrical.out_fig.data[0].y),\n",
    "                     max(self.electrical.out_fig.data[-1].y),\n",
    "                ],\n",
    "                \"autorange\": False,\n",
    "            },\n",
    "            xaxis={\n",
    "                \"showticklabels\": False,\n",
    "                \"ticks\": \"\",\n",
    "                \"range\": [\n",
    "                    min(self.electrical.out_fig.data[0].x),\n",
    "                    max(self.electrical.out_fig.data[0].x),\n",
    "                ],\n",
    "                \"autorange\": False,\n",
    "            },\n",
    "        )\n",
    "        \n",
    "        \n",
    "        \n",
    "        # Fluorescence single trace\n",
    "        self.fluorescence = SingleTracePlotlyWidget(\n",
    "            timeseries=self.make_ts(self.nwb.stimulus[self.stimkeys[in1]]),\n",
    "                              foreign_time_window_controller=self.time_window_controller)\n",
    "        \n",
    "        self.fbase = self.fluorescence.out_fig.data[0].x\n",
    "        \n",
    "        for i in range(1,len(self.stimkeys)):\n",
    "            self.fluorescence.out_fig.add_trace(go.Scatter(x=self.fbase,y=self.nwb.stimulus[self.stimkeys[i]].data[:],line=dict(color=self.colorList[i%10])))\n",
    "            \n",
    "        \n",
    "        self.fluorescence.out_fig.update_layout(\n",
    "            title=None,\n",
    "            showlegend=False,\n",
    "            width=840,\n",
    "            height=230,\n",
    "            margin=dict(l=60, r=200, t=8, b=20),\n",
    "            yaxis_title=\"mA\",\n",
    "            yaxis={\n",
    "                \"range\": [\n",
    "                    min(self.fluorescence.out_fig.data[0].y),\n",
    "                    max(self.fluorescence.out_fig.data[-1].y),\n",
    "                ],\n",
    "                \"autorange\": False,\n",
    "            },\n",
    "            xaxis={\n",
    "                \"range\": [\n",
    "                    min(self.fluorescence.out_fig.data[0].x),\n",
    "                    max(self.fluorescence.out_fig.data[0].x),\n",
    "                ],\n",
    "                \"autorange\": False,\n",
    "                \"constrain\": \"domain\",\n",
    "                \"anchor\": \"free\",\n",
    "            },\n",
    "        )\n",
    "        \n",
    "        self.trace_widgets = self.makeTraceWid()\n",
    "        \n",
    "        self.tvaluelist = [False for i in range(len(self.tracelist))]\n",
    "        self.oldtval = self.tvaluelist\n",
    "        \n",
    "        for i in range(len(self.tracelist)):\n",
    "            self.tracelist[i].observe(self.obs)\n",
    "                \n",
    "        hbox_header = widgets.HBox([self.time_window_controller])\n",
    "        vbox_widgets = widgets.VBox([self.electrical, self.fluorescence])\n",
    "        hbox_widgets = widgets.HBox([vbox_widgets])\n",
    "        hbox_widgets2 = widgets.HBox([self.trace_widgets])\n",
    "        \n",
    "        self.widgets_panel.children = [hbox_header, hbox_widgets, hbox_widgets2]\n",
    "        \n",
    " \n",
    "    def process_dandiset(self, dandiset):\n",
    "        try:\n",
    "            metadata = dandiset.get_metadata()\n",
    "            if has_nwb(metadata):\n",
    "                return metadata\n",
    "        except:\n",
    "            pass\n",
    "        return None       \n",
    "\n",
    "\n",
    "    def toggle_cache(self, args):\n",
    "        if isinstance(args[\"new\"], dict):\n",
    "            if args[\"new\"].get(\"value\") is True:\n",
    "                self.cache_path_text.layout.visibility = \"visible\"\n",
    "            elif args[\"new\"].get(\"value\") is False:\n",
    "                self.cache_path_text.layout.visibility = \"hidden\"\n",
    "     \n",
    "    def make_ts(self,nwb_obj,name=\"Trace\"):\n",
    "        return pynwb.base.TimeSeries(name=name,data=nwb_obj.data[:],starting_time=0.,rate=nwb_obj.rate,unit=nwb_obj.starting_time_unit)\n",
    "    \n",
    "\n",
    "    \n",
    "    def updateVals(self):\n",
    "        self.tvaluelist = [self.tracelist[i].value for i in range(len(self.tracelist))]\n",
    "    \n",
    "    def makeTraceWid(self):\n",
    "        self.tracelist = []\n",
    "        for i in range(len(self.stimkeys)):\n",
    "            self.tracelist.append(widgets.ToggleButton( value=False, description=str(i), disabled=False, button_style='', # 'success', 'info', 'warning', 'danger' or '' \n",
    "                                                         tooltip='Description', icon='',color='red',background_color='yellow',width='30px'\n",
    "                                                        ))\n",
    "            self.tracelist[i].style.text_color = self.colorList[i%10]\n",
    "                \n",
    "        return(widgets.GridBox(self.tracelist, layout=widgets.Layout(grid_template_columns=\"repeat(4, 150px)\")))\n",
    "    \n",
    "    def obs(self,change):\n",
    "        if isinstance(change[\"new\"], bool):\n",
    "            self.updateVals()\n",
    "            print(self.tvaluelist)\n",
    "            self.compute_plot()\n",
    "            \n",
    "    def compute_plot(self):\n",
    "        if(self.tvaluelist == [False for i in range(len(self.tvaluelist))]):\n",
    "            for i in range(len(self.tvaluelist)):\n",
    "                    self.electrical.out_fig.data[i].visible = True\n",
    "                    self.fluorescence.out_fig.data[i].visible = True\n",
    "        else:\n",
    "            for i in range(len(self.tvaluelist)):\n",
    "                self.electrical.out_fig.data[i].visible = self.tvaluelist[i]\n",
    "                self.fluorescence.out_fig.data[i].visible = self.tvaluelist[i]\n",
    "            \n",
    "        \n",
    "        \n",
    "        \n",
    "        \n",
    "        \n",
    "        \n",
    "    "
   ]
  },
  {
   "cell_type": "code",
   "execution_count": 7,
   "id": "9c222e7a",
   "metadata": {
    "scrolled": false
   },
   "outputs": [
    {
     "data": {
      "application/vnd.jupyter.widget-view+json": {
       "model_id": "8df02d8baf43401591e8c6bf168537f2",
       "version_major": 2,
       "version_minor": 0
      },
      "text/plain": [
       "Dashboard2(children=(HBox(children=(VBox(children=(RadioButtons(layout=Layout(width='100px'), options=('Local …"
      ]
     },
     "execution_count": 7,
     "metadata": {},
     "output_type": "execute_result"
    },
    {
     "data": {
      "application/vnd.jupyter.widget-view+json": {
       "model_id": "0d3c5c62d0cb41ad99c21221296ce2a0",
       "version_major": 2,
       "version_minor": 0
      },
      "text/plain": [
       "Loading dandiset metadata:   0%|          | 0/293 [00:00<?, ?it/s]"
      ]
     },
     "metadata": {},
     "output_type": "display_data"
    },
    {
     "name": "stdout",
     "output_type": "stream",
     "text": [
      "enterstream\n",
      "enters3file\n",
      "enterfsspec\n"
     ]
    },
    {
     "name": "stderr",
     "output_type": "stream",
     "text": [
      "/home/daksh/.local/lib/python3.10/site-packages/hdmf/spec/namespace.py:531: UserWarning: Ignoring cached namespace 'hdmf-common' version 1.5.0 because version 1.6.0 is already loaded.\n",
      "  warn(\"Ignoring cached namespace '%s' version %s because version %s is already loaded.\"\n",
      "/home/daksh/.local/lib/python3.10/site-packages/hdmf/spec/namespace.py:531: UserWarning: Ignoring cached namespace 'core' version 2.3.0 because version 2.6.0-alpha is already loaded.\n",
      "  warn(\"Ignoring cached namespace '%s' version %s because version %s is already loaded.\"\n",
      "/home/daksh/.local/lib/python3.10/site-packages/hdmf/spec/namespace.py:531: UserWarning: Ignoring cached namespace 'hdmf-experimental' version 0.1.0 because version 0.3.0 is already loaded.\n",
      "  warn(\"Ignoring cached namespace '%s' version %s because version %s is already loaded.\"\n"
     ]
    },
    {
     "name": "stdout",
     "output_type": "stream",
     "text": [
      "[False, False, False, False, True, False, False, False, False, False, False, False, False, False, False, False]\n",
      "[False, False, False, False, True, False, False, False, False, False, True, False, False, False, False, False]\n",
      "[False, False, False, False, True, False, False, False, False, False, True, True, False, False, False, False]\n",
      "[False, False, False, False, True, True, False, False, False, False, True, True, False, False, False, False]\n",
      "[False, False, False, False, True, True, True, False, False, False, True, True, False, False, False, False]\n"
     ]
    }
   ],
   "source": [
    "app = Dashboard2(\"fsspec\")\n",
    "app"
   ]
  },
  {
   "cell_type": "code",
   "execution_count": 42,
   "id": "cc717824",
   "metadata": {},
   "outputs": [
    {
     "data": {
      "text/plain": [
       "[ToggleButton(value=False, description='0', style=ToggleButtonStyle(text_color='#1f77b4'), tooltip='Description'),\n",
       " ToggleButton(value=False, description='1', style=ToggleButtonStyle(text_color='#ff7f0e'), tooltip='Description'),\n",
       " ToggleButton(value=False, description='2', style=ToggleButtonStyle(text_color='#2ca02c'), tooltip='Description'),\n",
       " ToggleButton(value=False, description='3', style=ToggleButtonStyle(text_color='#d62728'), tooltip='Description'),\n",
       " ToggleButton(value=True, description='4', style=ToggleButtonStyle(text_color='#9467bd'), tooltip='Description'),\n",
       " ToggleButton(value=True, description='5', style=ToggleButtonStyle(text_color='#8c564b'), tooltip='Description'),\n",
       " ToggleButton(value=True, description='6', style=ToggleButtonStyle(text_color='#e377c2'), tooltip='Description'),\n",
       " ToggleButton(value=False, description='7', style=ToggleButtonStyle(text_color='#7f7f7f'), tooltip='Description'),\n",
       " ToggleButton(value=False, description='8', style=ToggleButtonStyle(text_color='#bcbd22'), tooltip='Description'),\n",
       " ToggleButton(value=False, description='9', style=ToggleButtonStyle(text_color='#17becf'), tooltip='Description'),\n",
       " ToggleButton(value=True, description='10', style=ToggleButtonStyle(text_color='#1f77b4'), tooltip='Description'),\n",
       " ToggleButton(value=True, description='11', style=ToggleButtonStyle(text_color='#ff7f0e'), tooltip='Description'),\n",
       " ToggleButton(value=False, description='12', style=ToggleButtonStyle(text_color='#2ca02c'), tooltip='Description'),\n",
       " ToggleButton(value=False, description='13', style=ToggleButtonStyle(text_color='#d62728'), tooltip='Description'),\n",
       " ToggleButton(value=False, description='14', style=ToggleButtonStyle(text_color='#9467bd'), tooltip='Description'),\n",
       " ToggleButton(value=False, description='15', style=ToggleButtonStyle(text_color='#8c564b'), tooltip='Description')]"
      ]
     },
     "execution_count": 42,
     "metadata": {},
     "output_type": "execute_result"
    }
   ],
   "source": [
    "app.tracelist"
   ]
  },
  {
   "cell_type": "code",
   "execution_count": 48,
   "id": "abd9e048",
   "metadata": {},
   "outputs": [
    {
     "name": "stdout",
     "output_type": "stream",
     "text": [
      "1 1\n",
      "4 2\n"
     ]
    }
   ],
   "source": [
    "ls1 = [1,4]\n",
    "ls2 = [1,2,3,4,4]\n",
    "for i1,i2 in zip(ls1,ls2):\n",
    "    print(str(i1)+\" \"+str(i2))"
   ]
  },
  {
   "cell_type": "code",
   "execution_count": 41,
   "id": "90a14ddd",
   "metadata": {},
   "outputs": [
    {
     "ename": "AttributeError",
     "evalue": "'str' object has no attribute 'style'",
     "output_type": "error",
     "traceback": [
      "\u001b[0;31m---------------------------------------------------------------------------\u001b[0m",
      "\u001b[0;31mAttributeError\u001b[0m                            Traceback (most recent call last)",
      "Cell \u001b[0;32mIn[41], line 4\u001b[0m\n\u001b[1;32m      1\u001b[0m a \u001b[38;5;241m=\u001b[39m widgets\u001b[38;5;241m.\u001b[39mCheckbox( value\u001b[38;5;241m=\u001b[39m\u001b[38;5;28;01mFalse\u001b[39;00m, description\u001b[38;5;241m=\u001b[39m\u001b[38;5;124m'\u001b[39m\u001b[38;5;124m1\u001b[39m\u001b[38;5;124m'\u001b[39m, disabled\u001b[38;5;241m=\u001b[39m\u001b[38;5;28;01mFalse\u001b[39;00m, button_style\u001b[38;5;241m=\u001b[39m\u001b[38;5;124m'\u001b[39m\u001b[38;5;124m'\u001b[39m, \u001b[38;5;66;03m# 'success', 'info', 'warning', 'danger' or '' \u001b[39;00m\n\u001b[1;32m      2\u001b[0m                                                          tooltip\u001b[38;5;241m=\u001b[39m\u001b[38;5;124m'\u001b[39m\u001b[38;5;124mDescription\u001b[39m\u001b[38;5;124m'\u001b[39m, icon\u001b[38;5;241m=\u001b[39m\u001b[38;5;124m'\u001b[39m\u001b[38;5;124m'\u001b[39m,color\u001b[38;5;241m=\u001b[39m\u001b[38;5;124m'\u001b[39m\u001b[38;5;124mred\u001b[39m\u001b[38;5;124m'\u001b[39m,background_color\u001b[38;5;241m=\u001b[39m\u001b[38;5;124m'\u001b[39m\u001b[38;5;124myellow\u001b[39m\u001b[38;5;124m'\u001b[39m,width\u001b[38;5;241m=\u001b[39m\u001b[38;5;124m'\u001b[39m\u001b[38;5;124m30px\u001b[39m\u001b[38;5;124m'\u001b[39m\n\u001b[1;32m      3\u001b[0m                                                         )\n\u001b[0;32m----> 4\u001b[0m a \u001b[38;5;241m=\u001b[39m \u001b[43ma\u001b[49m\u001b[38;5;241;43m.\u001b[39;49m\u001b[43mstyle\u001b[49m\u001b[38;5;241m.\u001b[39mtext_color \u001b[38;5;241m=\u001b[39m app\u001b[38;5;241m.\u001b[39mcolorList[\u001b[38;5;241m1\u001b[39m]\n",
      "\u001b[0;31mAttributeError\u001b[0m: 'str' object has no attribute 'style'"
     ]
    }
   ],
   "source": [
    "a = widgets.Checkbox( value=False, description='1', disabled=False, button_style='', # 'success', 'info', 'warning', 'danger' or '' \n",
    "                                                         tooltip='Description', icon='',color='red',background_color='yellow',width='30px'\n",
    "                                                        )\n",
    "a = a.style.text_color = app.colorList[1]"
   ]
  },
  {
   "cell_type": "code",
   "execution_count": 68,
   "id": "41ccdadb",
   "metadata": {},
   "outputs": [],
   "source": [
    "def make_ts1(data,name=\"Trace\"):\n",
    "    return pynwb.base.TimeSeries(name=name,data=data,starting_time=0.,rate=16666.66,unit='seconds')\n",
    "\n",
    "def make_ts1stim(nwbobj):\n",
    "    data = np.array([app.nwb.stimulus[app.stimkeys[0]].data[:]])\n",
    "    for i in range(1,len(app.stimkeys)):\n",
    "        tempd = [app.nwb.stimulus[app.stimkeys[i]].data[:]]\n",
    "        data = np.append(data,tempd,axis=0)\n",
    "    return(self.make_ts1(data.T))\n",
    "\n",
    "def make_ts1acq(nwbobj):\n",
    "    data = np.array([app.nwb.acquisition[app.acqkeys[0]].data[:]])\n",
    "    for i in range(1,len(app.acqkeys)):\n",
    "        tempd = [app.nwb.acquisition[app.acqkeys[i]].data[:]]\n",
    "        data = np.append(data,tempd,axis=0)\n",
    "    return(make_ts1(data.T))"
   ]
  },
  {
   "cell_type": "code",
   "execution_count": 69,
   "id": "3eabce65",
   "metadata": {},
   "outputs": [],
   "source": [
    "a\n",
    "f = make_ts1acq(a)"
   ]
  },
  {
   "cell_type": "code",
   "execution_count": 70,
   "id": "c1b52619",
   "metadata": {},
   "outputs": [
    {
     "data": {
      "text/plain": [
       "(52644, 16)"
      ]
     },
     "execution_count": 70,
     "metadata": {},
     "output_type": "execute_result"
    }
   ],
   "source": [
    "f.data.shape"
   ]
  },
  {
   "cell_type": "code",
   "execution_count": 71,
   "id": "92cfa322",
   "metadata": {},
   "outputs": [
    {
     "data": {
      "text/plain": [
       "16"
      ]
     },
     "execution_count": 71,
     "metadata": {},
     "output_type": "execute_result"
    }
   ],
   "source": [
    "f.data.shape[1]"
   ]
  },
  {
   "cell_type": "code",
   "execution_count": 78,
   "id": "327ee58e",
   "metadata": {},
   "outputs": [
    {
     "ename": "AttributeError",
     "evalue": "'NoneType' object has no attribute 'trials'",
     "output_type": "error",
     "traceback": [
      "\u001b[0;31m---------------------------------------------------------------------------\u001b[0m",
      "\u001b[0;31mAttributeError\u001b[0m                            Traceback (most recent call last)",
      "Cell \u001b[0;32mIn[78], line 1\u001b[0m\n\u001b[0;32m----> 1\u001b[0m \u001b[43mAlignMultiTraceTimeSeriesByTrialsVariable\u001b[49m\u001b[43m(\u001b[49m\u001b[43mtime_series\u001b[49m\u001b[43m \u001b[49m\u001b[38;5;241;43m=\u001b[39;49m\u001b[43m \u001b[49m\u001b[43mf\u001b[49m\u001b[43m)\u001b[49m\n",
      "File \u001b[0;32m~/.local/lib/python3.10/site-packages/nwbwidgets/timeseries.py:890\u001b[0m, in \u001b[0;36mAlignMultiTraceTimeSeriesByTrialsVariable.__init__\u001b[0;34m(self, time_series, trials, trace_index, trace_controller, trace_controller_kwargs)\u001b[0m\n\u001b[1;32m    880\u001b[0m \u001b[38;5;28;01mdef\u001b[39;00m \u001b[38;5;21m__init__\u001b[39m(\n\u001b[1;32m    881\u001b[0m     \u001b[38;5;28mself\u001b[39m,\n\u001b[1;32m    882\u001b[0m     time_series: TimeSeries,\n\u001b[0;32m   (...)\u001b[0m\n\u001b[1;32m    886\u001b[0m     trace_controller_kwargs\u001b[38;5;241m=\u001b[39m\u001b[38;5;28;01mNone\u001b[39;00m,\n\u001b[1;32m    887\u001b[0m ):\n\u001b[1;32m    888\u001b[0m     \u001b[38;5;28mself\u001b[39m\u001b[38;5;241m.\u001b[39mtime_series \u001b[38;5;241m=\u001b[39m time_series\n\u001b[0;32m--> 890\u001b[0m     \u001b[38;5;28;43msuper\u001b[39;49m\u001b[43m(\u001b[49m\u001b[43m)\u001b[49m\u001b[38;5;241;43m.\u001b[39;49m\u001b[38;5;21;43m__init__\u001b[39;49m\u001b[43m(\u001b[49m\n\u001b[1;32m    891\u001b[0m \u001b[43m        \u001b[49m\u001b[43mtime_series\u001b[49m\u001b[38;5;241;43m=\u001b[39;49m\u001b[43mtime_series\u001b[49m\u001b[43m,\u001b[49m\n\u001b[1;32m    892\u001b[0m \u001b[43m        \u001b[49m\u001b[43mtrials\u001b[49m\u001b[38;5;241;43m=\u001b[39;49m\u001b[43mtrials\u001b[49m\u001b[43m,\u001b[49m\n\u001b[1;32m    893\u001b[0m \u001b[43m        \u001b[49m\u001b[43mtrace_index\u001b[49m\u001b[38;5;241;43m=\u001b[39;49m\u001b[43mtrace_index\u001b[49m\u001b[43m,\u001b[49m\n\u001b[1;32m    894\u001b[0m \u001b[43m        \u001b[49m\u001b[43mtrace_controller\u001b[49m\u001b[38;5;241;43m=\u001b[39;49m\u001b[43mtrace_controller\u001b[49m\u001b[43m,\u001b[49m\n\u001b[1;32m    895\u001b[0m \u001b[43m        \u001b[49m\u001b[43mtrace_controller_kwargs\u001b[49m\u001b[38;5;241;43m=\u001b[39;49m\u001b[43mtrace_controller_kwargs\u001b[49m\u001b[43m,\u001b[49m\n\u001b[1;32m    896\u001b[0m \u001b[43m        \u001b[49m\u001b[43msem\u001b[49m\u001b[38;5;241;43m=\u001b[39;49m\u001b[38;5;28;43;01mFalse\u001b[39;49;00m\u001b[43m,\u001b[49m\n\u001b[1;32m    897\u001b[0m \u001b[43m    \u001b[49m\u001b[43m)\u001b[49m\n",
      "File \u001b[0;32m~/.local/lib/python3.10/site-packages/nwbwidgets/timeseries.py:685\u001b[0m, in \u001b[0;36mAlignMultiTraceTimeSeriesByTrialsAbstract.__init__\u001b[0;34m(self, time_series, trials, trace_index, trace_controller, trace_controller_kwargs, sem)\u001b[0m\n\u001b[1;32m    682\u001b[0m \u001b[38;5;28msuper\u001b[39m()\u001b[38;5;241m.\u001b[39m\u001b[38;5;21m__init__\u001b[39m()\n\u001b[1;32m    684\u001b[0m \u001b[38;5;28;01mif\u001b[39;00m trials \u001b[38;5;129;01mis\u001b[39;00m \u001b[38;5;28;01mNone\u001b[39;00m:\n\u001b[0;32m--> 685\u001b[0m     \u001b[38;5;28mself\u001b[39m\u001b[38;5;241m.\u001b[39mtrials \u001b[38;5;241m=\u001b[39m \u001b[38;5;28;43mself\u001b[39;49m\u001b[38;5;241;43m.\u001b[39;49m\u001b[43mget_trials\u001b[49m\u001b[43m(\u001b[49m\u001b[43m)\u001b[49m\n\u001b[1;32m    686\u001b[0m     \u001b[38;5;28;01mif\u001b[39;00m \u001b[38;5;28mself\u001b[39m\u001b[38;5;241m.\u001b[39mtrials \u001b[38;5;129;01mis\u001b[39;00m \u001b[38;5;28;01mNone\u001b[39;00m:\n\u001b[1;32m    687\u001b[0m         \u001b[38;5;28mself\u001b[39m\u001b[38;5;241m.\u001b[39mchildren \u001b[38;5;241m=\u001b[39m [widgets\u001b[38;5;241m.\u001b[39mHTML(\u001b[38;5;124m\"\u001b[39m\u001b[38;5;124mNo trials present\u001b[39m\u001b[38;5;124m\"\u001b[39m)]\n",
      "File \u001b[0;32m~/.local/lib/python3.10/site-packages/nwbwidgets/timeseries.py:741\u001b[0m, in \u001b[0;36mAlignMultiTraceTimeSeriesByTrialsAbstract.get_trials\u001b[0;34m(self)\u001b[0m\n\u001b[1;32m    740\u001b[0m \u001b[38;5;28;01mdef\u001b[39;00m \u001b[38;5;21mget_trials\u001b[39m(\u001b[38;5;28mself\u001b[39m):\n\u001b[0;32m--> 741\u001b[0m     \u001b[38;5;28;01mreturn\u001b[39;00m \u001b[38;5;28;43mself\u001b[39;49m\u001b[38;5;241;43m.\u001b[39;49m\u001b[43mtime_series\u001b[49m\u001b[38;5;241;43m.\u001b[39;49m\u001b[43mget_ancestor\u001b[49m\u001b[43m(\u001b[49m\u001b[38;5;124;43m\"\u001b[39;49m\u001b[38;5;124;43mNWBFile\u001b[39;49m\u001b[38;5;124;43m\"\u001b[39;49m\u001b[43m)\u001b[49m\u001b[38;5;241;43m.\u001b[39;49m\u001b[43mtrials\u001b[49m\n",
      "\u001b[0;31mAttributeError\u001b[0m: 'NoneType' object has no attribute 'trials'"
     ]
    }
   ],
   "source": [
    "AlignMultiTraceTimeSeriesByTrialsVariable(time_series = f)"
   ]
  },
  {
   "cell_type": "code",
   "execution_count": 8,
   "id": "38a8fda0",
   "metadata": {},
   "outputs": [
    {
     "data": {
      "text/plain": [
       "()"
      ]
     },
     "metadata": {},
     "output_type": "display_data"
    }
   ],
   "source": [
    "display(app.widgets_panel.children)"
   ]
  },
  {
   "cell_type": "markdown",
   "id": "3928c3cd",
   "metadata": {},
   "source": [
    "    def make_ts1(self,data,name=\"Trace\"):\n",
    "        return pynwb.base.TimeSeries(name=name,data=data,starting_time=0.,rate=16666.66,unit='seconds')\n",
    "    \n",
    "    def make_ts1stim(self,nwbobj):\n",
    "        data = np.array([app.nwb.stimulus[app.stimkeys[0]].data[:]])\n",
    "        for i in range(1,len(app.stimkeys)):\n",
    "            tempd = [app.nwb.stimulus[app.stimkeys[i]].data[:]]\n",
    "            data = np.append(data,tempd,axis=0)\n",
    "        return(self.make_ts1(data))\n",
    "    \n",
    "    def make_ts1acq(self,nwbobj):\n",
    "        data = np.array([app.nwb.acquisition[app.acqkeys[0]].data[:]])\n",
    "        for i in range(1,len(app.acqkeys)):\n",
    "            tempd = [app.nwb.acquisition[app.acqkeys[i]].data[:]]\n",
    "            data = np.append(data,tempd,axis=0)\n",
    "        return(self.make_ts1(data))"
   ]
  },
  {
   "cell_type": "code",
   "execution_count": 38,
   "id": "719732b9",
   "metadata": {},
   "outputs": [],
   "source": [
    "a = widgets.ToggleButton( value=False, description='1', disabled=False, button_style='warning', # 'success', 'info', 'warning', 'danger' or '' \n",
    "                                                         tooltip='Description', icon='',color='red',background_color='yellow',width='30px'\n",
    "                                                        )"
   ]
  },
  {
   "cell_type": "code",
   "execution_count": 35,
   "id": "88beaf05",
   "metadata": {},
   "outputs": [],
   "source": [
    "a = widgets.Checkbox(value=False,description='1')"
   ]
  },
  {
   "cell_type": "code",
   "execution_count": 39,
   "id": "1dd7eb89",
   "metadata": {},
   "outputs": [],
   "source": [
    "a.style.text_color = 'green'"
   ]
  },
  {
   "cell_type": "code",
   "execution_count": 40,
   "id": "af5bf2ca",
   "metadata": {},
   "outputs": [
    {
     "data": {
      "application/vnd.jupyter.widget-view+json": {
       "model_id": "1a1266d29ffe421abe39742166b35ad2",
       "version_major": 2,
       "version_minor": 0
      },
      "text/plain": [
       "ToggleButton(value=False, button_style='warning', description='1', style=ToggleButtonStyle(text_color='green')…"
      ]
     },
     "metadata": {},
     "output_type": "display_data"
    }
   ],
   "source": [
    "display(a)"
   ]
  },
  {
   "cell_type": "code",
   "execution_count": 13,
   "id": "5fbc2b2a",
   "metadata": {},
   "outputs": [
    {
     "data": {
      "text/plain": [
       "1"
      ]
     },
     "execution_count": 13,
     "metadata": {},
     "output_type": "execute_result"
    }
   ],
   "source": [
    "a = [True,False]\n",
    "b = [True,True]\n",
    "True - False"
   ]
  },
  {
   "cell_type": "code",
   "execution_count": 14,
   "id": "ace7ba4b",
   "metadata": {},
   "outputs": [
    {
     "ename": "AttributeError",
     "evalue": "'Dashboard2' object has no attribute 'fluorescence'",
     "output_type": "error",
     "traceback": [
      "\u001b[0;31m---------------------------------------------------------------------------\u001b[0m",
      "\u001b[0;31mAttributeError\u001b[0m                            Traceback (most recent call last)",
      "Cell \u001b[0;32mIn[14], line 1\u001b[0m\n\u001b[0;32m----> 1\u001b[0m \u001b[43mapp\u001b[49m\u001b[38;5;241;43m.\u001b[39;49m\u001b[43mfluorescence\u001b[49m\u001b[38;5;241m.\u001b[39mout_fig\n",
      "\u001b[0;31mAttributeError\u001b[0m: 'Dashboard2' object has no attribute 'fluorescence'"
     ]
    }
   ],
   "source": [
    "app.fluorescence.out_fig"
   ]
  },
  {
   "cell_type": "code",
   "execution_count": null,
   "id": "0889344e",
   "metadata": {},
   "outputs": [],
   "source": [
    "app.fluorescence.out_fig.add_trace(go.Scatter(x=app.electrical.out_fig.data[0].x,y=app.nwb.stimulus[app.stimkeys[1]].data[:]))"
   ]
  },
  {
   "cell_type": "code",
   "execution_count": null,
   "id": "a9169d17",
   "metadata": {},
   "outputs": [],
   "source": [
    "app.fluorescence.out_fig.data[0].visible = !(False)"
   ]
  },
  {
   "cell_type": "code",
   "execution_count": null,
   "id": "74b29cb7",
   "metadata": {},
   "outputs": [],
   "source": [
    "False"
   ]
  },
  {
   "cell_type": "markdown",
   "id": "c1b97016",
   "metadata": {},
   "source": [
    "widgets.ToggleButton(\n",
    "                 value=True,\n",
    "                 description='Trace'+str(i),\n",
    "                 disabled=False,\n",
    "                 button_style='info', # 'success', 'info', 'warning', 'danger' or ''\n",
    "                 tooltip='Description',\n",
    "                 icon='check')"
   ]
  },
  {
   "cell_type": "code",
   "execution_count": null,
   "id": "de07da9d",
   "metadata": {},
   "outputs": [],
   "source": [
    "data = np.array([app.nwb.stimulus[app.stimkeys[0]].data[:]]).T\n",
    "for i in range(1,len(app.stimkeys)):\n",
    "            tempd = np.array([app.nwb.stimulus[app.stimkeys[i]].data[:]]).T\n",
    "            data = np.append(data,tempd,axis=1)"
   ]
  },
  {
   "cell_type": "code",
   "execution_count": null,
   "id": "2571b92b",
   "metadata": {},
   "outputs": [],
   "source": [
    "data.shape[1]"
   ]
  },
  {
   "cell_type": "code",
   "execution_count": null,
   "id": "acfaf292",
   "metadata": {},
   "outputs": [],
   "source": [
    "data.shape"
   ]
  },
  {
   "cell_type": "code",
   "execution_count": null,
   "id": "593c9823",
   "metadata": {},
   "outputs": [],
   "source": [
    "SeparateTracesPlotlyWidget(\n",
    "            timeseries=app.make_ts1(data),\n",
    "                              foreign_time_window_controller=app.time_window_controller)"
   ]
  },
  {
   "cell_type": "code",
   "execution_count": null,
   "id": "d5243afc",
   "metadata": {},
   "outputs": [],
   "source": [
    "l1 = [app.make_ts(app.nwb.stimulus[app.stimkeys[in1]]) for in1 in range(len(app.stimkeys))]"
   ]
  },
  {
   "cell_type": "code",
   "execution_count": null,
   "id": "5fc8d2e2",
   "metadata": {},
   "outputs": [],
   "source": [
    "MultiTimeSeriesWidget(l1)"
   ]
  },
  {
   "cell_type": "code",
   "execution_count": null,
   "id": "9cb285a3",
   "metadata": {},
   "outputs": [],
   "source": [
    "data"
   ]
  },
  {
   "cell_type": "code",
   "execution_count": null,
   "id": "08359464",
   "metadata": {},
   "outputs": [],
   "source": [
    "data = [data,tempd]"
   ]
  },
  {
   "cell_type": "code",
   "execution_count": null,
   "id": "a9a0dc2f",
   "metadata": {},
   "outputs": [],
   "source": [
    "tempd"
   ]
  },
  {
   "cell_type": "code",
   "execution_count": null,
   "id": "aaa7545e",
   "metadata": {},
   "outputs": [],
   "source": [
    "app.stimkeys[15]"
   ]
  },
  {
   "cell_type": "code",
   "execution_count": null,
   "id": "dbf0c1db",
   "metadata": {},
   "outputs": [],
   "source": [
    "def on_button_clicked(b):\n",
    "    if isinstance(change[\"new\"], float):\n",
    "        print(b['new'])"
   ]
  },
  {
   "cell_type": "code",
   "execution_count": null,
   "id": "d62c3547",
   "metadata": {},
   "outputs": [],
   "source": [
    "app.tracelist[0].observe(on_button_clicked)"
   ]
  },
  {
   "cell_type": "code",
   "execution_count": null,
   "id": "49c082c4",
   "metadata": {},
   "outputs": [],
   "source": [
    "app.tracelist[0].__doc__"
   ]
  },
  {
   "cell_type": "code",
   "execution_count": 34,
   "id": "92b2c06f",
   "metadata": {
    "scrolled": false
   },
   "outputs": [
    {
     "name": "stdout",
     "output_type": "stream",
     "text": [
      "['__annotations__',\n",
      " '__class__',\n",
      " '__del__',\n",
      " '__delattr__',\n",
      " '__dict__',\n",
      " '__dir__',\n",
      " '__doc__',\n",
      " '__eq__',\n",
      " '__format__',\n",
      " '__ge__',\n",
      " '__getattribute__',\n",
      " '__getstate__',\n",
      " '__gt__',\n",
      " '__hash__',\n",
      " '__init__',\n",
      " '__init_subclass__',\n",
      " '__le__',\n",
      " '__lt__',\n",
      " '__module__',\n",
      " '__ne__',\n",
      " '__new__',\n",
      " '__reduce__',\n",
      " '__reduce_ex__',\n",
      " '__repr__',\n",
      " '__setattr__',\n",
      " '__setstate__',\n",
      " '__sizeof__',\n",
      " '__str__',\n",
      " '__subclasshook__',\n",
      " '__weakref__',\n",
      " '_active_widgets',\n",
      " '_add_notifiers',\n",
      " '_all_trait_default_generators',\n",
      " '_call_widget_constructed',\n",
      " '_comm_changed',\n",
      " '_compare',\n",
      " '_control_comm',\n",
      " '_cross_validation_lock',\n",
      " '_default_keys',\n",
      " '_descriptors',\n",
      " '_gen_repr_from_keys',\n",
      " '_get_embed_state',\n",
      " '_get_trait_default_generator',\n",
      " '_handle_control_comm_msg',\n",
      " '_handle_custom_msg',\n",
      " '_handle_msg',\n",
      " '_holding_sync',\n",
      " '_instance_inits',\n",
      " '_is_numpy',\n",
      " '_lock_property',\n",
      " '_log_default',\n",
      " '_model_id',\n",
      " '_model_module',\n",
      " '_model_module_version',\n",
      " '_model_name',\n",
      " '_msg_callbacks',\n",
      " '_notify_observers',\n",
      " '_notify_trait',\n",
      " '_property_lock',\n",
      " '_register_validator',\n",
      " '_remove_notifiers',\n",
      " '_repr_keys',\n",
      " '_repr_mimebundle_',\n",
      " '_send',\n",
      " '_should_send_property',\n",
      " '_states_to_send',\n",
      " '_static_immutable_initial_values',\n",
      " '_trait_default_generators',\n",
      " '_trait_from_json',\n",
      " '_trait_notifiers',\n",
      " '_trait_to_json',\n",
      " '_trait_validators',\n",
      " '_trait_values',\n",
      " '_traits',\n",
      " '_view_count',\n",
      " '_view_module',\n",
      " '_view_module_version',\n",
      " '_view_name',\n",
      " '_widget_construction_callback',\n",
      " '_widget_types',\n",
      " 'add_traits',\n",
      " 'background',\n",
      " 'class_own_trait_events',\n",
      " 'class_own_traits',\n",
      " 'class_trait_names',\n",
      " 'class_traits',\n",
      " 'close',\n",
      " 'close_all',\n",
      " 'comm',\n",
      " 'cross_validation_lock',\n",
      " 'description_width',\n",
      " 'get_manager_state',\n",
      " 'get_state',\n",
      " 'get_view_spec',\n",
      " 'handle_comm_opened',\n",
      " 'handle_control_comm_opened',\n",
      " 'has_trait',\n",
      " 'hold_sync',\n",
      " 'hold_trait_notifications',\n",
      " 'keys',\n",
      " 'log',\n",
      " 'model_id',\n",
      " 'notify_change',\n",
      " 'observe',\n",
      " 'on_msg',\n",
      " 'on_trait_change',\n",
      " 'on_widget_constructed',\n",
      " 'open',\n",
      " 'send',\n",
      " 'send_state',\n",
      " 'set_state',\n",
      " 'set_trait',\n",
      " 'setup_instance',\n",
      " 'text_color',\n",
      " 'trait_defaults',\n",
      " 'trait_events',\n",
      " 'trait_has_value',\n",
      " 'trait_metadata',\n",
      " 'trait_names',\n",
      " 'trait_values',\n",
      " 'traits',\n",
      " 'unobserve',\n",
      " 'unobserve_all',\n",
      " 'widget_types',\n",
      " 'widgets']\n"
     ]
    }
   ],
   "source": [
    "from pprint import pprint\n",
    "pprint(dir(a.style))"
   ]
  },
  {
   "cell_type": "code",
   "execution_count": null,
   "id": "94ee4728",
   "metadata": {},
   "outputs": [],
   "source": [
    "app.electrical.out_fig.select_traces"
   ]
  },
  {
   "cell_type": "code",
   "execution_count": null,
   "id": "d0fc27be",
   "metadata": {},
   "outputs": [],
   "source": [
    "widgetlist\n",
    "valuelist\n",
    "\n",
    "\n",
    "def observe1(change):\n",
    "    self.updatevals() # valuelist updated\n",
    "    self.compute()"
   ]
  },
  {
   "cell_type": "code",
   "execution_count": null,
   "id": "95df7847",
   "metadata": {},
   "outputs": [],
   "source": [
    "def self.compute():"
   ]
  },
  {
   "cell_type": "code",
   "execution_count": null,
   "id": "f4dad427",
   "metadata": {},
   "outputs": [],
   "source": [
    "a = [True,True]\n",
    "\n",
    "a == [True for i in range(len(a))] #cond"
   ]
  },
  {
   "cell_type": "code",
   "execution_count": null,
   "id": "4126f3f9",
   "metadata": {},
   "outputs": [],
   "source": [
    "if cond1 | cond2\n",
    "    addallt\n",
    "else:\n",
    "    addt where t"
   ]
  },
  {
   "cell_type": "code",
   "execution_count": null,
   "id": "e1a479b3",
   "metadata": {},
   "outputs": [],
   "source": [
    "app.nwb.acquisition"
   ]
  },
  {
   "cell_type": "code",
   "execution_count": null,
   "id": "25ea21b3",
   "metadata": {},
   "outputs": [],
   "source": [
    "def createAllTData(self):"
   ]
  },
  {
   "cell_type": "code",
   "execution_count": null,
   "id": "e83edc00",
   "metadata": {},
   "outputs": [],
   "source": [
    "SingleTracePlotlyWidget(\n",
    "            timeseries=self.make_ts(self.nwb.stimulus[self.stimkeys[in1]]),\n",
    "                              foreign_time_window_controller=self.time_window_controller)\n",
    "        for i in range(1,len(self.stimkeys)):\n",
    "            self.fluorescence.out_fig.add_trace(self.nwb.stimulus[self.stimkeys[i]].data[:])"
   ]
  },
  {
   "cell_type": "code",
   "execution_count": null,
   "id": "8bc5bf09",
   "metadata": {},
   "outputs": [],
   "source": []
  }
 ],
 "metadata": {
  "kernelspec": {
   "display_name": "Python 3 (ipykernel)",
   "language": "python",
   "name": "python3"
  },
  "language_info": {
   "codemirror_mode": {
    "name": "ipython",
    "version": 3
   },
   "file_extension": ".py",
   "mimetype": "text/x-python",
   "name": "python",
   "nbconvert_exporter": "python",
   "pygments_lexer": "ipython3",
   "version": "3.10.6"
  }
 },
 "nbformat": 4,
 "nbformat_minor": 5
}
